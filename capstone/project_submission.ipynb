{
 "cells": [
  {
   "cell_type": "markdown",
   "metadata": {},
   "source": [
    "Donald Trump is the president elect of the United States. Some have argued that his victory came as a surprise because of the existence of political echo chambers on social media platforms like Facebook and Twitter. in both reinforcing individual political beliefs and making it more difficult to find information that does not align with your beliefs. The use of algorithms to personalize content also tend to personalize information that only aligns with our point of view. There has been a good amount of qualitative analysis on the existence and nature of these echo chambers on Twitter and other social media platforms but little if any quantitative research.\n",
    "\n",
    "Twitter lends itself well to a quantitative investigation into the existence and nature of echo chambers due to the attributes of the Twitter platform. First, data is readily available through the use of the Streaming and Rest APIs at no cost. Next, Twitter provides a convenient method for sharing information through the retweet (RT), which can be thought of as analogous to an echo in an echo chamber. Finally, tweets are limited in the amount of characters that can be sent. This makes the content of each tweet fairly uniform (due to brevity) and much easier to analyze and aggregate over a large number of people. The goal of this data project is to investigate echo chambers on Twitter, particularly with regards to the recent political election cycle. This project also seeks to formalize the definition of an echo chamber and develop a generalized method of discovering whether or not a particular tweet belongs to a large echo chamber."
   ]
  },
  {
   "cell_type": "code",
   "execution_count": null,
   "metadata": {
    "collapsed": true
   },
   "outputs": [],
   "source": []
  }
 ],
 "metadata": {
  "kernelspec": {
   "display_name": "Python 2",
   "language": "python",
   "name": "python2"
  },
  "language_info": {
   "codemirror_mode": {
    "name": "ipython",
    "version": 2
   },
   "file_extension": ".py",
   "mimetype": "text/x-python",
   "name": "python",
   "nbconvert_exporter": "python",
   "pygments_lexer": "ipython2",
   "version": "2.7.11"
  }
 },
 "nbformat": 4,
 "nbformat_minor": 0
}
