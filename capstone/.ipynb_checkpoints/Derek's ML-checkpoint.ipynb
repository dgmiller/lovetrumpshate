{
 "cells": [
  {
   "cell_type": "code",
   "execution_count": 1,
   "metadata": {
    "collapsed": false
   },
   "outputs": [
    {
     "name": "stderr",
     "output_type": "stream",
     "text": [
      "/usr/local/anaconda2/lib/python2.7/site-packages/nltk/twitter/__init__.py:20: UserWarning: The twython library has not been installed. Some functionality from the twitter package will not be available.\n",
      "  warnings.warn(\"The twython library has not been installed. \"\n"
     ]
    },
    {
     "data": {
      "text/plain": [
       "<module 'utils' from 'utils.pyc'>"
      ]
     },
     "execution_count": 1,
     "metadata": {},
     "output_type": "execute_result"
    }
   ],
   "source": [
    "# import statements\n",
    "import utils as ut\n",
    "import numpy as np\n",
    "import pandas as pd\n",
    "from sklearn.cross_validation import train_test_split\n",
    "from sklearn.naive_bayes import GaussianNB\n",
    "import matplotlib.pyplot as plt\n",
    "%matplotlib inline\n",
    "reload(ut)"
   ]
  },
  {
   "cell_type": "code",
   "execution_count": 2,
   "metadata": {
    "collapsed": false,
    "scrolled": false
   },
   "outputs": [
    {
     "name": "stdout",
     "output_type": "stream",
     "text": [
      "\n",
      "\tOptions\n",
      "\n",
      "            1: trump from lab computer\n",
      "\n",
      "            2: trump from linux mint\n",
      "\n",
      "            3: clean trump from lab computer\n",
      "\n",
      "            4: clean trump from linux mint\n",
      "\n",
      "\n",
      "Enter number >> 3\n"
     ]
    },
    {
     "data": {
      "text/html": [
       "<div>\n",
       "<table border=\"1\" class=\"dataframe\">\n",
       "  <thead>\n",
       "    <tr style=\"text-align: right;\">\n",
       "      <th></th>\n",
       "      <th>ts</th>\n",
       "      <th>usr_fol</th>\n",
       "      <th>usr_n_stat</th>\n",
       "      <th>usr_fri</th>\n",
       "      <th>n_weblinks</th>\n",
       "      <th>n_mentions</th>\n",
       "      <th>n_hashtags</th>\n",
       "      <th>neu</th>\n",
       "      <th>comp</th>\n",
       "      <th>pos-neg</th>\n",
       "    </tr>\n",
       "    <tr>\n",
       "      <th>ts</th>\n",
       "      <th></th>\n",
       "      <th></th>\n",
       "      <th></th>\n",
       "      <th></th>\n",
       "      <th></th>\n",
       "      <th></th>\n",
       "      <th></th>\n",
       "      <th></th>\n",
       "      <th></th>\n",
       "      <th></th>\n",
       "    </tr>\n",
       "  </thead>\n",
       "  <tbody>\n",
       "    <tr>\n",
       "      <th>2016-11-09 01:46:28.711</th>\n",
       "      <td>1478681188711</td>\n",
       "      <td>30.0</td>\n",
       "      <td>626.0</td>\n",
       "      <td>53.0</td>\n",
       "      <td>0</td>\n",
       "      <td>0</td>\n",
       "      <td>1</td>\n",
       "      <td>0.580</td>\n",
       "      <td>-0.6545</td>\n",
       "      <td>-0.420</td>\n",
       "    </tr>\n",
       "    <tr>\n",
       "      <th>2016-11-09 01:46:29.694</th>\n",
       "      <td>1478681189694</td>\n",
       "      <td>201.0</td>\n",
       "      <td>11670.0</td>\n",
       "      <td>175.0</td>\n",
       "      <td>0</td>\n",
       "      <td>0</td>\n",
       "      <td>0</td>\n",
       "      <td>0.784</td>\n",
       "      <td>-0.4310</td>\n",
       "      <td>-0.216</td>\n",
       "    </tr>\n",
       "    <tr>\n",
       "      <th>2016-11-09 01:46:29.622</th>\n",
       "      <td>1478681189622</td>\n",
       "      <td>1587.0</td>\n",
       "      <td>17840.0</td>\n",
       "      <td>253.0</td>\n",
       "      <td>0</td>\n",
       "      <td>1</td>\n",
       "      <td>0</td>\n",
       "      <td>0.795</td>\n",
       "      <td>-0.5574</td>\n",
       "      <td>-0.205</td>\n",
       "    </tr>\n",
       "    <tr>\n",
       "      <th>2016-11-09 01:46:29.638</th>\n",
       "      <td>1478681189638</td>\n",
       "      <td>686.0</td>\n",
       "      <td>1897.0</td>\n",
       "      <td>1805.0</td>\n",
       "      <td>0</td>\n",
       "      <td>0</td>\n",
       "      <td>0</td>\n",
       "      <td>0.663</td>\n",
       "      <td>-0.8235</td>\n",
       "      <td>-0.337</td>\n",
       "    </tr>\n",
       "    <tr>\n",
       "      <th>2016-11-09 01:46:30.684</th>\n",
       "      <td>1478681190684</td>\n",
       "      <td>232.0</td>\n",
       "      <td>51.0</td>\n",
       "      <td>188.0</td>\n",
       "      <td>0</td>\n",
       "      <td>0</td>\n",
       "      <td>1</td>\n",
       "      <td>0.652</td>\n",
       "      <td>0.8402</td>\n",
       "      <td>0.348</td>\n",
       "    </tr>\n",
       "  </tbody>\n",
       "</table>\n",
       "</div>"
      ],
      "text/plain": [
       "                                    ts  usr_fol  usr_n_stat  usr_fri  \\\n",
       "ts                                                                     \n",
       "2016-11-09 01:46:28.711  1478681188711     30.0       626.0     53.0   \n",
       "2016-11-09 01:46:29.694  1478681189694    201.0     11670.0    175.0   \n",
       "2016-11-09 01:46:29.622  1478681189622   1587.0     17840.0    253.0   \n",
       "2016-11-09 01:46:29.638  1478681189638    686.0      1897.0   1805.0   \n",
       "2016-11-09 01:46:30.684  1478681190684    232.0        51.0    188.0   \n",
       "\n",
       "                         n_weblinks  n_mentions  n_hashtags    neu    comp  \\\n",
       "ts                                                                           \n",
       "2016-11-09 01:46:28.711           0           0           1  0.580 -0.6545   \n",
       "2016-11-09 01:46:29.694           0           0           0  0.784 -0.4310   \n",
       "2016-11-09 01:46:29.622           0           1           0  0.795 -0.5574   \n",
       "2016-11-09 01:46:29.638           0           0           0  0.663 -0.8235   \n",
       "2016-11-09 01:46:30.684           0           0           1  0.652  0.8402   \n",
       "\n",
       "                         pos-neg  \n",
       "ts                                \n",
       "2016-11-09 01:46:28.711   -0.420  \n",
       "2016-11-09 01:46:29.694   -0.216  \n",
       "2016-11-09 01:46:29.622   -0.205  \n",
       "2016-11-09 01:46:29.638   -0.337  \n",
       "2016-11-09 01:46:30.684    0.348  "
      ]
     },
     "execution_count": 2,
     "metadata": {},
     "output_type": "execute_result"
    }
   ],
   "source": [
    "#c,df,T = ut.make_train_test()\n",
    "fname = ut.get_file()\n",
    "T = pd.read_csv(fname)\n",
    "T.index = pd.to_datetime(T['ts'],unit='ms') - pd.DateOffset(hours=7)\n",
    "T.tail()"
   ]
  },
  {
   "cell_type": "code",
   "execution_count": 3,
   "metadata": {
    "collapsed": false
   },
   "outputs": [],
   "source": [
    "df = pd.read_csv(\"../../trumpdf.csv\")\n",
    "df.index = pd.to_datetime(df['ts'],unit='ms') - pd.DateOffset(hours=7)"
   ]
  },
  {
   "cell_type": "code",
   "execution_count": 4,
   "metadata": {
    "collapsed": false
   },
   "outputs": [
    {
     "data": {
      "text/html": [
       "<div>\n",
       "<table border=\"1\" class=\"dataframe\">\n",
       "  <thead>\n",
       "    <tr style=\"text-align: right;\">\n",
       "      <th></th>\n",
       "      <th>ts</th>\n",
       "      <th>usr_fol</th>\n",
       "      <th>usr_n_stat</th>\n",
       "      <th>usr_fri</th>\n",
       "      <th>n_weblinks</th>\n",
       "      <th>n_mentions</th>\n",
       "      <th>n_hashtags</th>\n",
       "      <th>RT</th>\n",
       "      <th>neg</th>\n",
       "      <th>neu</th>\n",
       "      <th>pos</th>\n",
       "      <th>comp</th>\n",
       "      <th>text</th>\n",
       "    </tr>\n",
       "    <tr>\n",
       "      <th>ts</th>\n",
       "      <th></th>\n",
       "      <th></th>\n",
       "      <th></th>\n",
       "      <th></th>\n",
       "      <th></th>\n",
       "      <th></th>\n",
       "      <th></th>\n",
       "      <th></th>\n",
       "      <th></th>\n",
       "      <th></th>\n",
       "      <th></th>\n",
       "      <th></th>\n",
       "      <th></th>\n",
       "    </tr>\n",
       "  </thead>\n",
       "  <tbody>\n",
       "    <tr>\n",
       "      <th>2016-11-09 01:46:30.506</th>\n",
       "      <td>1478681190506</td>\n",
       "      <td>450.0</td>\n",
       "      <td>34016.0</td>\n",
       "      <td>375.0</td>\n",
       "      <td>1</td>\n",
       "      <td>1</td>\n",
       "      <td>0</td>\n",
       "      <td>1</td>\n",
       "      <td>0.000</td>\n",
       "      <td>1.000</td>\n",
       "      <td>0.000</td>\n",
       "      <td>0.0000</td>\n",
       "      <td>RT @dave_izeidi: Mdr qui ne tente rien n'a rie...</td>\n",
       "    </tr>\n",
       "    <tr>\n",
       "      <th>2016-11-09 01:46:30.680</th>\n",
       "      <td>1478681190680</td>\n",
       "      <td>3707.0</td>\n",
       "      <td>1030.0</td>\n",
       "      <td>265.0</td>\n",
       "      <td>0</td>\n",
       "      <td>1</td>\n",
       "      <td>0</td>\n",
       "      <td>1</td>\n",
       "      <td>0.000</td>\n",
       "      <td>0.786</td>\n",
       "      <td>0.214</td>\n",
       "      <td>0.5994</td>\n",
       "      <td>RT @SJTEMI: Yoooo. Well if Donald Trump can be...</td>\n",
       "    </tr>\n",
       "    <tr>\n",
       "      <th>2016-11-09 01:46:30.778</th>\n",
       "      <td>1478681190778</td>\n",
       "      <td>187.0</td>\n",
       "      <td>3072.0</td>\n",
       "      <td>328.0</td>\n",
       "      <td>0</td>\n",
       "      <td>1</td>\n",
       "      <td>1</td>\n",
       "      <td>1</td>\n",
       "      <td>0.651</td>\n",
       "      <td>0.247</td>\n",
       "      <td>0.102</td>\n",
       "      <td>-0.9499</td>\n",
       "      <td>RT @OTRADaily: Trump didn't win. Racism won. S...</td>\n",
       "    </tr>\n",
       "    <tr>\n",
       "      <th>2016-11-09 01:46:30.713</th>\n",
       "      <td>1478681190713</td>\n",
       "      <td>71.0</td>\n",
       "      <td>7743.0</td>\n",
       "      <td>6.0</td>\n",
       "      <td>1</td>\n",
       "      <td>0</td>\n",
       "      <td>1</td>\n",
       "      <td>0</td>\n",
       "      <td>0.000</td>\n",
       "      <td>1.000</td>\n",
       "      <td>0.000</td>\n",
       "      <td>0.0000</td>\n",
       "      <td>#SIGUEMEYTESIGO Presidencia de Trump inquieta ...</td>\n",
       "    </tr>\n",
       "    <tr>\n",
       "      <th>2016-11-09 01:46:31.666</th>\n",
       "      <td>1478681191666</td>\n",
       "      <td>537.0</td>\n",
       "      <td>5730.0</td>\n",
       "      <td>752.0</td>\n",
       "      <td>0</td>\n",
       "      <td>1</td>\n",
       "      <td>0</td>\n",
       "      <td>1</td>\n",
       "      <td>0.256</td>\n",
       "      <td>0.744</td>\n",
       "      <td>0.000</td>\n",
       "      <td>-0.7318</td>\n",
       "      <td>RT @starboysivan: I CANT BELIEVE FLORIDA OU5 O...</td>\n",
       "    </tr>\n",
       "  </tbody>\n",
       "</table>\n",
       "</div>"
      ],
      "text/plain": [
       "                                    ts  usr_fol  usr_n_stat  usr_fri  \\\n",
       "ts                                                                     \n",
       "2016-11-09 01:46:30.506  1478681190506    450.0     34016.0    375.0   \n",
       "2016-11-09 01:46:30.680  1478681190680   3707.0      1030.0    265.0   \n",
       "2016-11-09 01:46:30.778  1478681190778    187.0      3072.0    328.0   \n",
       "2016-11-09 01:46:30.713  1478681190713     71.0      7743.0      6.0   \n",
       "2016-11-09 01:46:31.666  1478681191666    537.0      5730.0    752.0   \n",
       "\n",
       "                         n_weblinks  n_mentions  n_hashtags  RT    neg    neu  \\\n",
       "ts                                                                              \n",
       "2016-11-09 01:46:30.506           1           1           0   1  0.000  1.000   \n",
       "2016-11-09 01:46:30.680           0           1           0   1  0.000  0.786   \n",
       "2016-11-09 01:46:30.778           0           1           1   1  0.651  0.247   \n",
       "2016-11-09 01:46:30.713           1           0           1   0  0.000  1.000   \n",
       "2016-11-09 01:46:31.666           0           1           0   1  0.256  0.744   \n",
       "\n",
       "                           pos    comp  \\\n",
       "ts                                       \n",
       "2016-11-09 01:46:30.506  0.000  0.0000   \n",
       "2016-11-09 01:46:30.680  0.214  0.5994   \n",
       "2016-11-09 01:46:30.778  0.102 -0.9499   \n",
       "2016-11-09 01:46:30.713  0.000  0.0000   \n",
       "2016-11-09 01:46:31.666  0.000 -0.7318   \n",
       "\n",
       "                                                                      text  \n",
       "ts                                                                          \n",
       "2016-11-09 01:46:30.506  RT @dave_izeidi: Mdr qui ne tente rien n'a rie...  \n",
       "2016-11-09 01:46:30.680  RT @SJTEMI: Yoooo. Well if Donald Trump can be...  \n",
       "2016-11-09 01:46:30.778  RT @OTRADaily: Trump didn't win. Racism won. S...  \n",
       "2016-11-09 01:46:30.713  #SIGUEMEYTESIGO Presidencia de Trump inquieta ...  \n",
       "2016-11-09 01:46:31.666  RT @starboysivan: I CANT BELIEVE FLORIDA OU5 O...  "
      ]
     },
     "execution_count": 4,
     "metadata": {},
     "output_type": "execute_result"
    }
   ],
   "source": [
    "df.tail()"
   ]
  },
  {
   "cell_type": "code",
   "execution_count": 5,
   "metadata": {
    "collapsed": false,
    "scrolled": true
   },
   "outputs": [
    {
     "name": "stdout",
     "output_type": "stream",
     "text": [
      "2666820 338579\n"
     ]
    }
   ],
   "source": [
    "print len(df),len(T)"
   ]
  },
  {
   "cell_type": "code",
   "execution_count": 6,
   "metadata": {
    "collapsed": false
   },
   "outputs": [
    {
     "name": "stdout",
     "output_type": "stream",
     "text": [
      "Index([u'ts', u'usr_fol', u'usr_n_stat', u'usr_fri', u'n_weblinks',\n",
      "       u'n_mentions', u'n_hashtags', u'neu'],\n",
      "      dtype='object')\n"
     ]
    },
    {
     "data": {
      "text/plain": [
       "0.35902023536526978"
      ]
     },
     "execution_count": 6,
     "metadata": {},
     "output_type": "execute_result"
    }
   ],
   "source": [
    "T['outcome'] = np.around(T['comp'].as_matrix())\n",
    "X = T.drop(['outcome','comp','pos-neg'],axis=1)\n",
    "print X.columns\n",
    "nb = GaussianNB()\n",
    "nb.fit(X[:\"2016-11-07\"],T[:\"2016-11-07\"]['outcome'])\n",
    "nb.score(X[\"2016-11-08\":],T[\"2016-11-08\":]['outcome'])"
   ]
  },
  {
   "cell_type": "code",
   "execution_count": 7,
   "metadata": {
    "collapsed": true
   },
   "outputs": [],
   "source": [
    "from sklearn.ensemble.gradient_boosting import GradientBoostingClassifier"
   ]
  },
  {
   "cell_type": "code",
   "execution_count": 8,
   "metadata": {
    "collapsed": false
   },
   "outputs": [
    {
     "data": {
      "text/plain": [
       "0.5921364312173979"
      ]
     },
     "execution_count": 8,
     "metadata": {},
     "output_type": "execute_result"
    }
   ],
   "source": [
    "gbc = GradientBoostingClassifier()\n",
    "gbc.fit(X[:\"2016-11-07\"],T[:\"2016-11-07\"]['outcome'])\n",
    "gbc.score(X[\"2016-11-08\":],T[\"2016-11-08\":]['outcome'])"
   ]
  },
  {
   "cell_type": "markdown",
   "metadata": {},
   "source": [
    "Trees are going to require feature engineering on the text. Naive Bayes is aweful. Some of the variables are not independent?"
   ]
  },
  {
   "cell_type": "code",
   "execution_count": 9,
   "metadata": {
    "collapsed": true
   },
   "outputs": [],
   "source": [
    "from sklearn.svm import SVC"
   ]
  },
  {
   "cell_type": "code",
   "execution_count": 10,
   "metadata": {
    "collapsed": false
   },
   "outputs": [],
   "source": [
    "# svc = SVC(kernel='rbf')\n",
    "# svc.fit(X[:\"2016-11-07\"],T[:\"2016-11-07\"]['outcome'])\n",
    "# svc.score(X[\"2016-11-08\":],T[\"2016-11-08\":]['outcome'])"
   ]
  },
  {
   "cell_type": "code",
   "execution_count": 11,
   "metadata": {
    "collapsed": false
   },
   "outputs": [
    {
     "data": {
      "text/plain": [
       "0.41494468664163497"
      ]
     },
     "execution_count": 11,
     "metadata": {},
     "output_type": "execute_result"
    }
   ],
   "source": [
    "from sklearn.linear_model import LogisticRegression\n",
    "#c,df,T = ut.make_train_test()\n",
    "lrc = LogisticRegression()\n",
    "lrc.fit(X[:\"2016-11-07\"],T[:\"2016-11-07\"]['outcome'])\n",
    "lrc.score(X[\"2016-11-08\":],T[\"2016-11-08\":]['outcome'])"
   ]
  },
  {
   "cell_type": "code",
   "execution_count": 19,
   "metadata": {
    "collapsed": false
   },
   "outputs": [
    {
     "data": {
      "text/plain": [
       "(-1, 1)"
      ]
     },
     "execution_count": 19,
     "metadata": {},
     "output_type": "execute_result"
    },
    {
     "data": {
      "image/png": "[encoded data removed]",
      "text/plain": [
       "<matplotlib.figure.Figure at 0x7f509863c4d0>"
      ]
     },
     "metadata": {},
     "output_type": "display_data"
    }
   ],
   "source": [
    "df['comp'].resample(\"5Min\").mean().plot(kind='line',linewidth=2,figsize=(10,6))\n",
    "plt.ylim(-1,1)"
   ]
  },
  {
   "cell_type": "code",
   "execution_count": 20,
   "metadata": {
    "collapsed": false
   },
   "outputs": [
    {
     "data": {
      "text/plain": [
       "(-1, 1)"
      ]
     },
     "execution_count": 20,
     "metadata": {},
     "output_type": "execute_result"
    },
    {
     "data": {
      "image/png": "[encoded data removed]",
      "text/plain": [
       "<matplotlib.figure.Figure at 0x7f5098178690>"
      ]
     },
     "metadata": {},
     "output_type": "display_data"
    }
   ],
   "source": [
    "df['comp'].resample(\"5Min\").max().plot(kind='line',linewidth=2,figsize=(10,6))\n",
    "plt.ylim(-1,1)"
   ]
  },
  {
   "cell_type": "code",
   "execution_count": 21,
   "metadata": {
    "collapsed": false
   },
   "outputs": [
    {
     "data": {
      "text/plain": [
       "(-1, 1)"
      ]
     },
     "execution_count": 21,
     "metadata": {},
     "output_type": "execute_result"
    },
    {
     "data": {
      "image/png": "[encoded data removed]",
      "text/plain": [
       "<matplotlib.figure.Figure at 0x7f509833dc10>"
      ]
     },
     "metadata": {},
     "output_type": "display_data"
    }
   ],
   "source": [
    "df['comp'].resample(\"5Min\").min().plot(kind='line',linewidth=2,figsize=(10,6))\n",
    "plt.ylim(-1,1)"
   ]
  },
  {
   "cell_type": "code",
   "execution_count": 23,
   "metadata": {
    "collapsed": false
   },
   "outputs": [],
   "source": [
    "df['outcome'] = np.around(df['comp'].as_matrix())"
   ]
  },
  {
   "cell_type": "code",
   "execution_count": 36,
   "metadata": {
    "collapsed": false
   },
   "outputs": [
    {
     "data": {
      "text/plain": [
       "(-1, 1)"
      ]
     },
     "execution_count": 36,
     "metadata": {},
     "output_type": "execute_result"
    },
    {
     "data": {
      "image/png": "[encoded data removed]",
      "text/plain": [
       "<matplotlib.figure.Figure at 0x7f508badcf10>"
      ]
     },
     "metadata": {},
     "output_type": "display_data"
    }
   ],
   "source": [
    "df['outcome'][\"2016-11-01\":].resample(\"5Min\").mean().interpolate(method='time').plot(kind='line',linewidth=2,figsize=(10,6))\n",
    "plt.ylim(-1,1)"
   ]
  },
  {
   "cell_type": "code",
   "execution_count": 73,
   "metadata": {
    "collapsed": false
   },
   "outputs": [
    {
     "data": {
      "text/plain": [
       "(-0.25, 0.25)"
      ]
     },
     "execution_count": 73,
     "metadata": {},
     "output_type": "execute_result"
    },
    {
     "data": {
      "image/png": "[encoded data removed]",
      "text/plain": [
       "<matplotlib.figure.Figure at 0x7f508bb1d8d0>"
      ]
     },
     "metadata": {},
     "output_type": "display_data"
    }
   ],
   "source": [
    "df['outcome'][\"2016-11-01\":].resample(\"5Min\").mean().interpolate(method='spline',order=5).plot(kind='line',linewidth=2,figsize=(10,6))\n",
    "plt.ylim(-.25,.25)"
   ]
  },
  {
   "cell_type": "code",
   "execution_count": 76,
   "metadata": {
    "collapsed": false
   },
   "outputs": [
    {
     "data": {
      "text/plain": [
       "(-0.05, 0.25)"
      ]
     },
     "execution_count": 76,
     "metadata": {},
     "output_type": "execute_result"
    },
    {
     "data": {
      "image/png": "[encoded data removed]",
      "text/plain": [
       "<matplotlib.figure.Figure at 0x7f5098482ed0>"
      ]
     },
     "metadata": {},
     "output_type": "display_data"
    }
   ],
   "source": [
    "df['outcome'][\"2016-11-08 18:00\":].resample(\"5Min\").mean().interpolate(method='spline',order=5).plot(kind='line',linewidth=2,figsize=(10,6))\n",
    "plt.ylim(-.05,.25)"
   ]
  },
  {
   "cell_type": "code",
   "execution_count": null,
   "metadata": {
    "collapsed": true
   },
   "outputs": [],
   "source": [
    "df['outcome'][\"2016-11-01\":].resample(\"5Min\").mean().interpolate"
   ]
  },
  {
   "cell_type": "code",
   "execution_count": 82,
   "metadata": {
    "collapsed": false
   },
   "outputs": [
    {
     "data": {
      "text/plain": [
       "array([ 'RT @elmundoes: La victoria de Trump an no es matemtica pero ya recibe las primeras felicitaciones #ElectionNight https://t.co/cdufpEEw5E\\n',\n",
       "       'RT @CharlyDuc: 9/11 atentados terroristas : TRAGEDIA.  11/9 Trump presidente: TRAGEDIA.  #ElectionNight\\n',\n",
       "       'RT @AtallahAmjad: \"Asked if there was panic setting in at the Mexican finance ministry, an official there said: Yes.\" https://t.co/FQqK85\\n',\n",
       "       'RT @LexSutton_: Trump may win. But I serve a God who sits high and looks low. He got us \\n',\n",
       "       'RT @AP: BREAKING: Trump wins Pennsylvania. @AP race call at 1:36 a.m. EST. #Election2016 #APracecall https://t.co/QkIQdGS24O\\n',\n",
       "       \"It's a strange feeling to know you're in a minority over things that just seem like common sense. #brexit #Trump\\n\",\n",
       "       \"RT @BossMan_Riq: Trump can run for president with no political experience but my mans can't be a doctor with no degree smh https://t.co/Vsi\\n\",\n",
       "       'AmeriKKKa is really in the hands of Donald Trump...\\n',\n",
       "       'RT @Sarah_Arnold1: not sleeping until i know trump wins\\n',\n",
       "       'RT @TheCdnComedian: @electionland #americadecides2016 Lets call it a tie. #hillary can have oval office on odd numbered days and #TRUMP \\n',\n",
       "       'RT @larryelder: In Case They Forget: \"These 23 Celebrities Say They\\'ll Leave The Country If Trump Is Elected\" https://t.co/IqXGBGGrmE  #Ele\\n',\n",
       "       'RT @GetPurposeMerch: ATTENTION TWITTER: The first 10,000 People to retweet get $137.77 if Trump somehow wins  Follow and Turn on Notific \\n',\n",
       "       '#Trump wins #Pennsylvania #ElectionNight #USElection2016\\n',\n",
       "       'RT @HotlineJosh: AP calls Pennsylvania. https://t.co/2nQuEZ5g5s\\n',\n",
       "       'RT @IamAkademiks: People wilding out at the most likely possibility that Donald Trump will be the next president https://t.co/shAcuwN2VM\\n',\n",
       "       \"RT @hcginger98: This is the kind of behavior Trump encourages. For the first time in my life, I'm legitimately scared to be a woman \\n\",\n",
       "       \"RT @Flootoutcourt: -J'ai un mauvais pressentiment Barack je sens que je vais perdre -J'espre que tu te Trump Krkrkr -Mdrr tu vas nous \\n\",\n",
       "       'This is why I love the whole Walden Family. https://t.co/l2IKFqvwKD\\n',\n",
       "       'RT @RGjournalist: Goedemorgen NLse politici, ziet u al een noodzaak tot verandering? #trump #brexit #referendum\\n',\n",
       "       'RT @Anothercitykidd: Trump got mfs like ...  https://t.co/PjBrBMzPTE\\n'], dtype=object)"
      ]
     },
     "execution_count": 82,
     "metadata": {},
     "output_type": "execute_result"
    }
   ],
   "source": [
    "df[\"2016-11-08 23:40\":\"2016-11-08 23:50\"]['text'].sample(20).as_matrix()"
   ]
  },
  {
   "cell_type": "code",
   "execution_count": null,
   "metadata": {
    "collapsed": true
   },
   "outputs": [],
   "source": []
  }
 ],
 "metadata": {
  "anaconda-cloud": {},
  "kernelspec": {
   "display_name": "Python 2",
   "language": "python",
   "name": "python2"
  },
  "language_info": {
   "codemirror_mode": {
    "name": "ipython",
    "version": 2
   },
   "file_extension": ".py",
   "mimetype": "text/x-python",
   "name": "python",
   "nbconvert_exporter": "python",
   "pygments_lexer": "ipython2",
   "version": "2.7.11"
  }
 },
 "nbformat": 4,
 "nbformat_minor": 0
}
