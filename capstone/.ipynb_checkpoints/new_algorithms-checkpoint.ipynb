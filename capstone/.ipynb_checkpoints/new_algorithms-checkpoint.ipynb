{
 "cells": [
  {
   "cell_type": "markdown",
   "metadata": {},
   "source": [
    "# Machine Learnin'\n",
    "\n",
    "This notebook shows the score of several algorithms we have learned about in class. First, you will see the import statements and loading the data into a dataframe. Neutral tweets are removed from the outcome classification. The feature matrix X is defined and the data are ready to train the models. The models we chose to use are Naive Bayes, Gradient Boosting, XGBoost, Logistic Regression, Support Vector Machines, and Discriminant Analysis. After the code and test results are displayed, a discussion about the methods and algorithms will follow. In that discussion, we will review the model assumptions, strengths, and pitfalls. We will also address which algorithms we did not use and why, followed by a brief summary of how these results inform our research question."
   ]
  },
  {
   "cell_type": "code",
   "execution_count": 79,
   "metadata": {
    "collapsed": false
   },
   "outputs": [
    {
     "data": {
      "text/plain": [
       "<module 'utils' from 'utils.pyc'>"
      ]
     },
     "execution_count": 79,
     "metadata": {},
     "output_type": "execute_result"
    }
   ],
   "source": [
    "# import statements\n",
    "import utils as ut\n",
    "import numpy as np\n",
    "import pandas as pd\n",
    "from __future__ import division\n",
    "from sklearn.cross_validation import train_test_split\n",
    "from sklearn.naive_bayes import GaussianNB\n",
    "from sklearn.linear_model import LogisticRegression\n",
    "from sklearn.discriminant_analysis import QuadraticDiscriminantAnalysis\n",
    "from sklearn.ensemble.gradient_boosting import GradientBoostingClassifier\n",
    "from sklearn.svm import SVC\n",
    "#import xgboost as xgb\n",
    "from sklearn.ensemble import VotingClassifier\n",
    "#from sklearn.gaussian_process import GaussianProcessClassifier\n",
    "from sklearn.neighbors import NearestCentroid,KNeighborsClassifier\n",
    "import matplotlib.pyplot as plt\n",
    "%matplotlib inline\n",
    "reload(ut)"
   ]
  },
  {
   "cell_type": "code",
   "execution_count": 6,
   "metadata": {
    "collapsed": false,
    "scrolled": false
   },
   "outputs": [
    {
     "name": "stdout",
     "output_type": "stream",
     "text": [
      "\n",
      "\tOptions\n",
      "\n",
      "            1: trump from lab computer\n",
      "\n",
      "            2: trump from linux mint\n",
      "\n",
      "            3: clean trump from lab computer\n",
      "\n",
      "            4: clean trump from linux mint\n",
      "\n",
      "\n",
      "Enter number >> 3\n"
     ]
    },
    {
     "data": {
      "text/html": [
       "<div>\n",
       "<table border=\"1\" class=\"dataframe\">\n",
       "  <thead>\n",
       "    <tr style=\"text-align: right;\">\n",
       "      <th></th>\n",
       "      <th>ts</th>\n",
       "      <th>usr_fol</th>\n",
       "      <th>usr_n_stat</th>\n",
       "      <th>usr_fri</th>\n",
       "      <th>n_weblinks</th>\n",
       "      <th>n_mentions</th>\n",
       "      <th>n_hashtags</th>\n",
       "      <th>neu</th>\n",
       "      <th>comp</th>\n",
       "      <th>pos-neg</th>\n",
       "      <th>outcome</th>\n",
       "    </tr>\n",
       "    <tr>\n",
       "      <th>ts</th>\n",
       "      <th></th>\n",
       "      <th></th>\n",
       "      <th></th>\n",
       "      <th></th>\n",
       "      <th></th>\n",
       "      <th></th>\n",
       "      <th></th>\n",
       "      <th></th>\n",
       "      <th></th>\n",
       "      <th></th>\n",
       "      <th></th>\n",
       "    </tr>\n",
       "  </thead>\n",
       "  <tbody>\n",
       "    <tr>\n",
       "      <th>2016-11-09 01:46:29.622</th>\n",
       "      <td>1478681189622</td>\n",
       "      <td>1587.0</td>\n",
       "      <td>17840.0</td>\n",
       "      <td>253.0</td>\n",
       "      <td>0</td>\n",
       "      <td>1</td>\n",
       "      <td>0</td>\n",
       "      <td>0.795</td>\n",
       "      <td>-0.5574</td>\n",
       "      <td>-0.205</td>\n",
       "      <td>-1.0</td>\n",
       "    </tr>\n",
       "    <tr>\n",
       "      <th>2016-11-09 01:46:29.638</th>\n",
       "      <td>1478681189638</td>\n",
       "      <td>686.0</td>\n",
       "      <td>1897.0</td>\n",
       "      <td>1805.0</td>\n",
       "      <td>0</td>\n",
       "      <td>0</td>\n",
       "      <td>0</td>\n",
       "      <td>0.663</td>\n",
       "      <td>-0.8235</td>\n",
       "      <td>-0.337</td>\n",
       "      <td>-1.0</td>\n",
       "    </tr>\n",
       "    <tr>\n",
       "      <th>2016-11-09 01:46:30.684</th>\n",
       "      <td>1478681190684</td>\n",
       "      <td>232.0</td>\n",
       "      <td>51.0</td>\n",
       "      <td>188.0</td>\n",
       "      <td>0</td>\n",
       "      <td>0</td>\n",
       "      <td>1</td>\n",
       "      <td>0.652</td>\n",
       "      <td>0.8402</td>\n",
       "      <td>0.348</td>\n",
       "      <td>1.0</td>\n",
       "    </tr>\n",
       "  </tbody>\n",
       "</table>\n",
       "</div>"
      ],
      "text/plain": [
       "                                    ts  usr_fol  usr_n_stat  usr_fri  \\\n",
       "ts                                                                     \n",
       "2016-11-09 01:46:29.622  1478681189622   1587.0     17840.0    253.0   \n",
       "2016-11-09 01:46:29.638  1478681189638    686.0      1897.0   1805.0   \n",
       "2016-11-09 01:46:30.684  1478681190684    232.0        51.0    188.0   \n",
       "\n",
       "                         n_weblinks  n_mentions  n_hashtags    neu    comp  \\\n",
       "ts                                                                           \n",
       "2016-11-09 01:46:29.622           0           1           0  0.795 -0.5574   \n",
       "2016-11-09 01:46:29.638           0           0           0  0.663 -0.8235   \n",
       "2016-11-09 01:46:30.684           0           0           1  0.652  0.8402   \n",
       "\n",
       "                         pos-neg  outcome  \n",
       "ts                                         \n",
       "2016-11-09 01:46:29.622   -0.205     -1.0  \n",
       "2016-11-09 01:46:29.638   -0.337     -1.0  \n",
       "2016-11-09 01:46:30.684    0.348      1.0  "
      ]
     },
     "execution_count": 6,
     "metadata": {},
     "output_type": "execute_result"
    }
   ],
   "source": [
    "#c,df,T = ut.make_train_test()\n",
    "fname = ut.get_file()\n",
    "T = pd.read_csv(fname)\n",
    "T.index = pd.to_datetime(T['ts'],unit='ms') - pd.DateOffset(hours=7)\n",
    "T['outcome'] = np.around(T['comp'].as_matrix())\n",
    "T.tail(3)"
   ]
  },
  {
   "cell_type": "code",
   "execution_count": 7,
   "metadata": {
    "collapsed": false
   },
   "outputs": [
    {
     "name": "stdout",
     "output_type": "stream",
     "text": [
      "Proportion of tweets with neutral sentiment: 0.451176830223\n",
      "Proportion of tweets with negative sentiment: 0.247292360129\n",
      "Proportion of tweets with positive sentiment: 0.301530809649\n"
     ]
    }
   ],
   "source": [
    "print \"Proportion of tweets with neutral sentiment:\",sum(T.outcome == 0)*1./len(T)\n",
    "print \"Proportion of tweets with negative sentiment:\",sum(T.outcome == -1)*1./len(T)\n",
    "print \"Proportion of tweets with positive sentiment:\",sum(T.outcome == 1)*1./len(T)"
   ]
  },
  {
   "cell_type": "code",
   "execution_count": 8,
   "metadata": {
    "collapsed": false
   },
   "outputs": [
    {
     "name": "stdout",
     "output_type": "stream",
     "text": [
      "338579\n",
      "185820\n",
      "Index([u'ts', u'usr_fol', u'usr_n_stat', u'usr_fri', u'n_weblinks',\n",
      "       u'n_mentions', u'n_hashtags', u'neu'],\n",
      "      dtype='object')\n"
     ]
    }
   ],
   "source": [
    "print len(T)\n",
    "T = T[T['outcome'] != 0]\n",
    "print len(T)\n",
    "X = T.drop(['outcome','comp','pos-neg'],axis=1)\n",
    "print X.columns"
   ]
  },
  {
   "cell_type": "markdown",
   "metadata": {},
   "source": [
    "# Visualization"
   ]
  },
  {
   "cell_type": "code",
   "execution_count": 26,
   "metadata": {
    "collapsed": false
   },
   "outputs": [
    {
     "data": {
      "text/html": [
       "<div>\n",
       "<table border=\"1\" class=\"dataframe\">\n",
       "  <thead>\n",
       "    <tr style=\"text-align: right;\">\n",
       "      <th></th>\n",
       "      <th>ts</th>\n",
       "      <th>usr_fol</th>\n",
       "      <th>usr_n_stat</th>\n",
       "      <th>usr_fri</th>\n",
       "      <th>n_weblinks</th>\n",
       "      <th>n_mentions</th>\n",
       "      <th>n_hashtags</th>\n",
       "      <th>neu</th>\n",
       "    </tr>\n",
       "    <tr>\n",
       "      <th>ts</th>\n",
       "      <th></th>\n",
       "      <th></th>\n",
       "      <th></th>\n",
       "      <th></th>\n",
       "      <th></th>\n",
       "      <th></th>\n",
       "      <th></th>\n",
       "      <th></th>\n",
       "    </tr>\n",
       "  </thead>\n",
       "  <tbody>\n",
       "    <tr>\n",
       "      <th>2016-11-07 12:51:57.774</th>\n",
       "      <td>1478548317774</td>\n",
       "      <td>823.0</td>\n",
       "      <td>5694.0</td>\n",
       "      <td>328.0</td>\n",
       "      <td>0</td>\n",
       "      <td>0</td>\n",
       "      <td>1</td>\n",
       "      <td>0.654</td>\n",
       "    </tr>\n",
       "    <tr>\n",
       "      <th>2016-11-07 12:51:58.177</th>\n",
       "      <td>1478548318177</td>\n",
       "      <td>977.0</td>\n",
       "      <td>6120.0</td>\n",
       "      <td>387.0</td>\n",
       "      <td>1</td>\n",
       "      <td>0</td>\n",
       "      <td>0</td>\n",
       "      <td>0.680</td>\n",
       "    </tr>\n",
       "    <tr>\n",
       "      <th>2016-11-07 12:51:58.623</th>\n",
       "      <td>1478548318623</td>\n",
       "      <td>62.0</td>\n",
       "      <td>5402.0</td>\n",
       "      <td>131.0</td>\n",
       "      <td>1</td>\n",
       "      <td>0</td>\n",
       "      <td>0</td>\n",
       "      <td>0.690</td>\n",
       "    </tr>\n",
       "    <tr>\n",
       "      <th>2016-11-07 12:51:59.985</th>\n",
       "      <td>1478548319985</td>\n",
       "      <td>342.0</td>\n",
       "      <td>16954.0</td>\n",
       "      <td>166.0</td>\n",
       "      <td>0</td>\n",
       "      <td>0</td>\n",
       "      <td>1</td>\n",
       "      <td>0.848</td>\n",
       "    </tr>\n",
       "    <tr>\n",
       "      <th>2016-11-07 12:52:00.182</th>\n",
       "      <td>1478548320182</td>\n",
       "      <td>123.0</td>\n",
       "      <td>1760.0</td>\n",
       "      <td>234.0</td>\n",
       "      <td>1</td>\n",
       "      <td>0</td>\n",
       "      <td>0</td>\n",
       "      <td>0.582</td>\n",
       "    </tr>\n",
       "  </tbody>\n",
       "</table>\n",
       "</div>"
      ],
      "text/plain": [
       "                                    ts  usr_fol  usr_n_stat  usr_fri  \\\n",
       "ts                                                                     \n",
       "2016-11-07 12:51:57.774  1478548317774    823.0      5694.0    328.0   \n",
       "2016-11-07 12:51:58.177  1478548318177    977.0      6120.0    387.0   \n",
       "2016-11-07 12:51:58.623  1478548318623     62.0      5402.0    131.0   \n",
       "2016-11-07 12:51:59.985  1478548319985    342.0     16954.0    166.0   \n",
       "2016-11-07 12:52:00.182  1478548320182    123.0      1760.0    234.0   \n",
       "\n",
       "                         n_weblinks  n_mentions  n_hashtags    neu  \n",
       "ts                                                                  \n",
       "2016-11-07 12:51:57.774           0           0           1  0.654  \n",
       "2016-11-07 12:51:58.177           1           0           0  0.680  \n",
       "2016-11-07 12:51:58.623           1           0           0  0.690  \n",
       "2016-11-07 12:51:59.985           0           0           1  0.848  \n",
       "2016-11-07 12:52:00.182           1           0           0  0.582  "
      ]
     },
     "execution_count": 26,
     "metadata": {},
     "output_type": "execute_result"
    }
   ],
   "source": [
    "X[:\"2016-11-07\"].tail()"
   ]
  },
  {
   "cell_type": "code",
   "execution_count": 27,
   "metadata": {
    "collapsed": false
   },
   "outputs": [
    {
     "data": {
      "text/plain": [
       "ts\n",
       "2016-11-07 12:51:57.774    1.0\n",
       "2016-11-07 12:51:58.177   -1.0\n",
       "2016-11-07 12:51:58.623   -1.0\n",
       "2016-11-07 12:51:59.985    1.0\n",
       "2016-11-07 12:52:00.182   -1.0\n",
       "Name: outcome, dtype: float64"
      ]
     },
     "execution_count": 27,
     "metadata": {},
     "output_type": "execute_result"
    }
   ],
   "source": [
    "T[:\"2016-11-07\"]['outcome'].tail()"
   ]
  },
  {
   "cell_type": "code",
   "execution_count": 34,
   "metadata": {
    "collapsed": false
   },
   "outputs": [
    {
     "data": {
      "text/plain": [
       "<matplotlib.axes._subplots.AxesSubplot at 0x7f1063796190>"
      ]
     },
     "execution_count": 34,
     "metadata": {},
     "output_type": "execute_result"
    },
    {
     "data": {
      "image/png": "[encoded data removed]",
      "text/plain": [
       "<matplotlib.figure.Figure at 0x7f1069237a50>"
      ]
     },
     "metadata": {},
     "output_type": "display_data"
    }
   ],
   "source": [
    "X[:\"2016-11-07\"]['neu'].plot(kind='hist',linewidth=0)"
   ]
  },
  {
   "cell_type": "code",
   "execution_count": 33,
   "metadata": {
    "collapsed": false
   },
   "outputs": [
    {
     "data": {
      "text/plain": [
       "ts            0.105588\n",
       "usr_fol       0.005266\n",
       "usr_n_stat   -0.007143\n",
       "usr_fri      -0.015239\n",
       "n_weblinks   -0.066839\n",
       "n_mentions   -0.015635\n",
       "n_hashtags    0.019821\n",
       "neu          -0.050449\n",
       "dtype: float64"
      ]
     },
     "execution_count": 33,
     "metadata": {},
     "output_type": "execute_result"
    }
   ],
   "source": [
    "X.corrwith(T['outcome'])"
   ]
  },
  {
   "cell_type": "code",
   "execution_count": 75,
   "metadata": {
    "collapsed": false
   },
   "outputs": [
    {
     "data": {
      "text/plain": [
       "0.38295627079586936"
      ]
     },
     "execution_count": 75,
     "metadata": {},
     "output_type": "execute_result"
    }
   ],
   "source": [
    "lr = LogisticRegression()\n",
    "lr.fit(Tout[:\"2016-11-07\"]['ts'].reshape(-1,1),T[:\"2016-11-07\"]['outcome'])\n",
    "lr.score(X[\"2016-11-08\":]['ts'].reshape(-1,1),T[\"2016-11-08\":]['outcome'])"
   ]
  },
  {
   "cell_type": "code",
   "execution_count": 37,
   "metadata": {
    "collapsed": false
   },
   "outputs": [
    {
     "data": {
      "text/plain": [
       "array([[ -4.91407656e-14,  -3.24743795e-21,  -3.33083823e-21,\n",
       "         -3.99160058e-22,  -4.40636454e-26,  -1.89891171e-26,\n",
       "         -1.93766677e-26,  -3.31993835e-26]])"
      ]
     },
     "execution_count": 37,
     "metadata": {},
     "output_type": "execute_result"
    }
   ],
   "source": [
    "lr.coef_"
   ]
  },
  {
   "cell_type": "code",
   "execution_count": 38,
   "metadata": {
    "collapsed": false
   },
   "outputs": [
    {
     "data": {
      "text/html": [
       "<div>\n",
       "<table border=\"1\" class=\"dataframe\">\n",
       "  <thead>\n",
       "    <tr style=\"text-align: right;\">\n",
       "      <th></th>\n",
       "      <th>ts</th>\n",
       "      <th>usr_fol</th>\n",
       "      <th>usr_n_stat</th>\n",
       "      <th>usr_fri</th>\n",
       "      <th>n_weblinks</th>\n",
       "      <th>n_mentions</th>\n",
       "      <th>n_hashtags</th>\n",
       "      <th>neu</th>\n",
       "      <th>comp</th>\n",
       "      <th>pos-neg</th>\n",
       "      <th>outcome</th>\n",
       "    </tr>\n",
       "    <tr>\n",
       "      <th>ts</th>\n",
       "      <th></th>\n",
       "      <th></th>\n",
       "      <th></th>\n",
       "      <th></th>\n",
       "      <th></th>\n",
       "      <th></th>\n",
       "      <th></th>\n",
       "      <th></th>\n",
       "      <th></th>\n",
       "      <th></th>\n",
       "      <th></th>\n",
       "    </tr>\n",
       "  </thead>\n",
       "  <tbody>\n",
       "    <tr>\n",
       "      <th>2016-10-19 07:00:15.016</th>\n",
       "      <td>1476885615016</td>\n",
       "      <td>38.0</td>\n",
       "      <td>666.0</td>\n",
       "      <td>150.0</td>\n",
       "      <td>1</td>\n",
       "      <td>0</td>\n",
       "      <td>0</td>\n",
       "      <td>0.798</td>\n",
       "      <td>0.5859</td>\n",
       "      <td>0.202</td>\n",
       "      <td>1.0</td>\n",
       "    </tr>\n",
       "    <tr>\n",
       "      <th>2016-10-19 07:00:15.687</th>\n",
       "      <td>1476885615687</td>\n",
       "      <td>68.0</td>\n",
       "      <td>3744.0</td>\n",
       "      <td>94.0</td>\n",
       "      <td>0</td>\n",
       "      <td>3</td>\n",
       "      <td>0</td>\n",
       "      <td>0.723</td>\n",
       "      <td>-0.7845</td>\n",
       "      <td>-0.277</td>\n",
       "      <td>-1.0</td>\n",
       "    </tr>\n",
       "    <tr>\n",
       "      <th>2016-10-19 07:00:15.625</th>\n",
       "      <td>1476885615625</td>\n",
       "      <td>221.0</td>\n",
       "      <td>10645.0</td>\n",
       "      <td>249.0</td>\n",
       "      <td>1</td>\n",
       "      <td>0</td>\n",
       "      <td>0</td>\n",
       "      <td>0.756</td>\n",
       "      <td>0.6331</td>\n",
       "      <td>0.244</td>\n",
       "      <td>1.0</td>\n",
       "    </tr>\n",
       "    <tr>\n",
       "      <th>2016-10-19 07:00:16.143</th>\n",
       "      <td>1476885616143</td>\n",
       "      <td>22216.0</td>\n",
       "      <td>31995.0</td>\n",
       "      <td>1045.0</td>\n",
       "      <td>0</td>\n",
       "      <td>0</td>\n",
       "      <td>0</td>\n",
       "      <td>0.722</td>\n",
       "      <td>0.8074</td>\n",
       "      <td>0.278</td>\n",
       "      <td>1.0</td>\n",
       "    </tr>\n",
       "    <tr>\n",
       "      <th>2016-10-19 07:00:16.673</th>\n",
       "      <td>1476885616673</td>\n",
       "      <td>464.0</td>\n",
       "      <td>10669.0</td>\n",
       "      <td>576.0</td>\n",
       "      <td>1</td>\n",
       "      <td>0</td>\n",
       "      <td>1</td>\n",
       "      <td>0.783</td>\n",
       "      <td>-0.5719</td>\n",
       "      <td>-0.217</td>\n",
       "      <td>-1.0</td>\n",
       "    </tr>\n",
       "  </tbody>\n",
       "</table>\n",
       "</div>"
      ],
      "text/plain": [
       "                                    ts  usr_fol  usr_n_stat  usr_fri  \\\n",
       "ts                                                                     \n",
       "2016-10-19 07:00:15.016  1476885615016     38.0       666.0    150.0   \n",
       "2016-10-19 07:00:15.687  1476885615687     68.0      3744.0     94.0   \n",
       "2016-10-19 07:00:15.625  1476885615625    221.0     10645.0    249.0   \n",
       "2016-10-19 07:00:16.143  1476885616143  22216.0     31995.0   1045.0   \n",
       "2016-10-19 07:00:16.673  1476885616673    464.0     10669.0    576.0   \n",
       "\n",
       "                         n_weblinks  n_mentions  n_hashtags    neu    comp  \\\n",
       "ts                                                                           \n",
       "2016-10-19 07:00:15.016           1           0           0  0.798  0.5859   \n",
       "2016-10-19 07:00:15.687           0           3           0  0.723 -0.7845   \n",
       "2016-10-19 07:00:15.625           1           0           0  0.756  0.6331   \n",
       "2016-10-19 07:00:16.143           0           0           0  0.722  0.8074   \n",
       "2016-10-19 07:00:16.673           1           0           1  0.783 -0.5719   \n",
       "\n",
       "                         pos-neg  outcome  \n",
       "ts                                         \n",
       "2016-10-19 07:00:15.016    0.202      1.0  \n",
       "2016-10-19 07:00:15.687   -0.277     -1.0  \n",
       "2016-10-19 07:00:15.625    0.244      1.0  \n",
       "2016-10-19 07:00:16.143    0.278      1.0  \n",
       "2016-10-19 07:00:16.673   -0.217     -1.0  "
      ]
     },
     "execution_count": 38,
     "metadata": {},
     "output_type": "execute_result"
    }
   ],
   "source": [
    "T.head()"
   ]
  },
  {
   "cell_type": "code",
   "execution_count": 39,
   "metadata": {
    "collapsed": false
   },
   "outputs": [
    {
     "data": {
      "text/html": [
       "<div>\n",
       "<table border=\"1\" class=\"dataframe\">\n",
       "  <thead>\n",
       "    <tr style=\"text-align: right;\">\n",
       "      <th></th>\n",
       "      <th>ts</th>\n",
       "      <th>outcome</th>\n",
       "    </tr>\n",
       "    <tr>\n",
       "      <th>ts</th>\n",
       "      <th></th>\n",
       "      <th></th>\n",
       "    </tr>\n",
       "  </thead>\n",
       "  <tbody>\n",
       "    <tr>\n",
       "      <th>2016-11-09 01:46:28.634</th>\n",
       "      <td>1478681188634</td>\n",
       "      <td>-1.0</td>\n",
       "    </tr>\n",
       "    <tr>\n",
       "      <th>2016-11-09 01:46:28.711</th>\n",
       "      <td>1478681188711</td>\n",
       "      <td>-1.0</td>\n",
       "    </tr>\n",
       "    <tr>\n",
       "      <th>2016-11-09 01:46:29.622</th>\n",
       "      <td>1478681189622</td>\n",
       "      <td>-1.0</td>\n",
       "    </tr>\n",
       "    <tr>\n",
       "      <th>2016-11-09 01:46:29.638</th>\n",
       "      <td>1478681189638</td>\n",
       "      <td>-1.0</td>\n",
       "    </tr>\n",
       "    <tr>\n",
       "      <th>2016-11-09 01:46:30.684</th>\n",
       "      <td>1478681190684</td>\n",
       "      <td>1.0</td>\n",
       "    </tr>\n",
       "  </tbody>\n",
       "</table>\n",
       "</div>"
      ],
      "text/plain": [
       "                                    ts  outcome\n",
       "ts                                             \n",
       "2016-11-09 01:46:28.634  1478681188634     -1.0\n",
       "2016-11-09 01:46:28.711  1478681188711     -1.0\n",
       "2016-11-09 01:46:29.622  1478681189622     -1.0\n",
       "2016-11-09 01:46:29.638  1478681189638     -1.0\n",
       "2016-11-09 01:46:30.684  1478681190684      1.0"
      ]
     },
     "execution_count": 39,
     "metadata": {},
     "output_type": "execute_result"
    }
   ],
   "source": [
    "Tout = T.drop(T.columns[1:-1],axis=1)\n",
    "Tout.tail()"
   ]
  },
  {
   "cell_type": "code",
   "execution_count": 45,
   "metadata": {
    "collapsed": false
   },
   "outputs": [
    {
     "data": {
      "text/plain": [
       "<matplotlib.axes._subplots.AxesSubplot at 0x7f1060f5e610>"
      ]
     },
     "execution_count": 45,
     "metadata": {},
     "output_type": "execute_result"
    },
    {
     "data": {
      "image/png": "[encoded data removed]",
      "text/plain": [
       "<matplotlib.figure.Figure at 0x7f10617077d0>"
      ]
     },
     "metadata": {},
     "output_type": "display_data"
    }
   ],
   "source": [
    "Tout[\"2016-11-01\"].plot(kind='scatter',x='ts',y='outcome',linewidth=0)"
   ]
  },
  {
   "cell_type": "code",
   "execution_count": 86,
   "metadata": {
    "collapsed": false
   },
   "outputs": [
    {
     "data": {
      "text/plain": [
       "0.61704372920413064"
      ]
     },
     "execution_count": 86,
     "metadata": {},
     "output_type": "execute_result"
    }
   ],
   "source": [
    "gbc_ = GradientBoostingClassifier()\n",
    "gbc_.fit(Tout[:\"2016-11-07\"]['ts'].reshape(-1,1),Tout[:\"2016-11-07\"]['outcome'])\n",
    "gbc_.score(Tout[\"2016-11-08\":]['ts'].reshape(-1,1),Tout[\"2016-11-08\":]['outcome'])"
   ]
  },
  {
   "cell_type": "code",
   "execution_count": 70,
   "metadata": {
    "collapsed": false,
    "scrolled": false
   },
   "outputs": [
    {
     "data": {
      "text/plain": [
       "array([[1478633306180],\n",
       "       [1478633306271],\n",
       "       [1478633306062],\n",
       "       ..., \n",
       "       [1478681189622],\n",
       "       [1478681189638],\n",
       "       [1478681190684]])"
      ]
     },
     "execution_count": 70,
     "metadata": {},
     "output_type": "execute_result"
    }
   ],
   "source": [
    "Tout[\"2016-11-08\":]['ts'].reshape(-1,1)"
   ]
  },
  {
   "cell_type": "code",
   "execution_count": 83,
   "metadata": {
    "collapsed": false
   },
   "outputs": [
    {
     "data": {
      "text/plain": [
       "<matplotlib.axes._subplots.AxesSubplot at 0x7f106918b590>"
      ]
     },
     "execution_count": 83,
     "metadata": {},
     "output_type": "execute_result"
    },
    {
     "data": {
      "image/png": "[encoded data removed]",
      "text/plain": [
       "<matplotlib.figure.Figure at 0x7f1060bd7510>"
      ]
     },
     "metadata": {},
     "output_type": "display_data"
    }
   ],
   "source": [
    "Tout['outcome'].resample(\"10Min\").mean().plot(kind='line')"
   ]
  },
  {
   "cell_type": "code",
   "execution_count": 84,
   "metadata": {
    "collapsed": false
   },
   "outputs": [
    {
     "data": {
      "text/plain": [
       "<matplotlib.axes._subplots.AxesSubplot at 0x7f1060aff490>"
      ]
     },
     "execution_count": 84,
     "metadata": {},
     "output_type": "execute_result"
    },
    {
     "data": {
      "image/png": "[encoded data removed]",
      "text/plain": [
       "<matplotlib.figure.Figure at 0x7f1060a45750>"
      ]
     },
     "metadata": {},
     "output_type": "display_data"
    }
   ],
   "source": [
    "Tout['ts'].resample(\"10Min\").mean().plot(kind='line')"
   ]
  },
  {
   "cell_type": "markdown",
   "metadata": {},
   "source": [
    "# Model Fitting!"
   ]
  },
  {
   "cell_type": "markdown",
   "metadata": {},
   "source": [
    "In order, the vanilla (out-of-the-box) implementations of our algorithms gave us these results for their rank according to test score:\n",
    "\n",
    "+ Gradient Boosting (.6183)\n",
    "+ Polynomial SVM (.6170)\n",
    "+ XGBoost (.6157)\n",
    "+ Naive Bayes (.6118)\n",
    "+ Quad Discriminant Analysis (.5828)\n",
    "\n",
    "Improved\n",
    "\n",
    "+ XGBoost (.6186)\n",
    "+ Gradient Boosting (.6183)\n",
    "+ Polynomial SVM (.6170)\n",
    "+ Quad Discriminant Analysis (.6170)\n",
    "+ Naive Bayes (.6118)"
   ]
  },
  {
   "cell_type": "markdown",
   "metadata": {},
   "source": [
    "### Naive Bayes\n",
    "Ha! Typical. So naive. Noob!"
   ]
  },
  {
   "cell_type": "code",
   "execution_count": 69,
   "metadata": {
    "collapsed": false
   },
   "outputs": [
    {
     "data": {
      "text/plain": [
       "0.60777240569847202"
      ]
     },
     "execution_count": 69,
     "metadata": {},
     "output_type": "execute_result"
    }
   ],
   "source": [
    "nb = GaussianNB()\n",
    "nb.fit(Tout[:\"2016-11-07\"]['ts'].reshape(-1,1),Tout[:\"2016-11-07\"]['outcome'])\n",
    "nb.score(Tout[\"2016-11-08\":]['ts'].reshape(-1,1),Tout[\"2016-11-08\":]['outcome'])"
   ]
  },
  {
   "cell_type": "markdown",
   "metadata": {},
   "source": [
    "### Gradient Boosted Regression Trees\n",
    "GBRT = Great Britain ReTweets"
   ]
  },
  {
   "cell_type": "code",
   "execution_count": 71,
   "metadata": {
    "collapsed": false
   },
   "outputs": [
    {
     "data": {
      "text/plain": [
       "0.61704372920413064"
      ]
     },
     "execution_count": 71,
     "metadata": {},
     "output_type": "execute_result"
    }
   ],
   "source": [
    "gbc = GradientBoostingClassifier()\n",
    "gbc.fit(Tout[:\"2016-11-07\"]['ts'].reshape(-1,1),Tout[:\"2016-11-07\"]['outcome'])\n",
    "gbc.score(Tout[\"2016-11-08\":]['ts'].reshape(-1,1),Tout[\"2016-11-08\":]['outcome'])"
   ]
  },
  {
   "cell_type": "markdown",
   "metadata": {},
   "source": [
    "### XGBoost\n",
    "Great Britain's more attractive cousin."
   ]
  },
  {
   "cell_type": "markdown",
   "metadata": {
    "collapsed": false
   },
   "source": [
    "xgbc = xgb.XGBClassifier()\n",
    "xgbc.fit(X[:\"2016-11-07\"],T[:\"2016-11-07\"]['outcome'])\n",
    "xgbc.score(X[\"2016-11-08\":],T[\"2016-11-08\":]['outcome'])"
   ]
  },
  {
   "cell_type": "markdown",
   "metadata": {
    "collapsed": false
   },
   "source": [
    "xgbc = xgb.XGBClassifier(gamma=2,reg_lambda=.5)\n",
    "xgbc.fit(X[:\"2016-11-07\"],T[:\"2016-11-07\"]['outcome'])\n",
    "xgbc.score(X[\"2016-11-08\":],T[\"2016-11-08\":]['outcome'])"
   ]
  },
  {
   "cell_type": "markdown",
   "metadata": {},
   "source": [
    "### Support Vector Machines\n",
    "Rise of the Machines."
   ]
  },
  {
   "cell_type": "code",
   "execution_count": 72,
   "metadata": {
    "collapsed": false
   },
   "outputs": [
    {
     "data": {
      "text/plain": [
       "0.61704372920413064"
      ]
     },
     "execution_count": 72,
     "metadata": {},
     "output_type": "execute_result"
    }
   ],
   "source": [
    "svc = SVC(kernel='poly')\n",
    "svc.fit(Tout[:\"2016-11-07\"]['ts'].reshape(-1,1),Tout[:\"2016-11-07\"]['outcome'])\n",
    "svc.score(Tout[\"2016-11-08\":]['ts'].reshape(-1,1),Tout[\"2016-11-08\":]['outcome'])"
   ]
  },
  {
   "cell_type": "markdown",
   "metadata": {},
   "source": [
    "### Discriminant Analysis\n",
    "A nice way of saying 'racial profiling'."
   ]
  },
  {
   "cell_type": "code",
   "execution_count": 73,
   "metadata": {
    "collapsed": false
   },
   "outputs": [
    {
     "data": {
      "text/plain": [
       "0.61704372920413064"
      ]
     },
     "execution_count": 73,
     "metadata": {},
     "output_type": "execute_result"
    }
   ],
   "source": [
    "qda = QuadraticDiscriminantAnalysis(reg_param=1)\n",
    "qda.fit(Tout[:\"2016-11-07\"]['ts'].reshape(-1,1),Tout[:\"2016-11-07\"]['outcome'])\n",
    "qda.score(Tout[\"2016-11-08\":]['ts'].reshape(-1,1),Tout[\"2016-11-08\":]['outcome'])"
   ]
  },
  {
   "cell_type": "markdown",
   "metadata": {},
   "source": [
    "### Nearest Neighbor"
   ]
  },
  {
   "cell_type": "code",
   "execution_count": 74,
   "metadata": {
    "collapsed": false
   },
   "outputs": [
    {
     "name": "stdout",
     "output_type": "stream",
     "text": [
      "0.617043729204\n",
      "0.382956270796\n"
     ]
    }
   ],
   "source": [
    "nn1 = NearestCentroid()\n",
    "nn2 = KNeighborsClassifier()\n",
    "nn1.fit(Tout[:\"2016-11-07\"]['ts'].reshape(-1,1),T[:\"2016-11-07\"]['outcome'])\n",
    "nn2.fit(Tout[:\"2016-11-07\"]['ts'].reshape(-1,1),T[:\"2016-11-07\"]['outcome'])\n",
    "print nn1.score(Tout[\"2016-11-08\":]['ts'].reshape(-1,1),T[\"2016-11-08\":]['outcome'])\n",
    "print nn2.score(Tout[\"2016-11-08\":]['ts'].reshape(-1,1),T[\"2016-11-08\":]['outcome'])"
   ]
  },
  {
   "cell_type": "markdown",
   "metadata": {
    "collapsed": true
   },
   "source": [
    "# Voting Classifier"
   ]
  },
  {
   "cell_type": "code",
   "execution_count": 19,
   "metadata": {
    "collapsed": false
   },
   "outputs": [
    {
     "data": {
      "text/plain": [
       "0.61366254966780454"
      ]
     },
     "execution_count": 19,
     "metadata": {},
     "output_type": "execute_result"
    }
   ],
   "source": [
    "nb = GaussianNB()\n",
    "gbc = GradientBoostingClassifier()\n",
    "svc = SVC(kernel='poly')\n",
    "qda = QuadraticDiscriminantAnalysis(reg_param=1)\n",
    "lr = LogisticRegression()\n",
    "\n",
    "vc = VotingClassifier(estimators=[('nb', nb), ('gbc', gbc), ('lr', lr), ('qda', qda)], voting='hard')\n",
    "vc.fit(X[:\"2016-11-07\"],T[:\"2016-11-07\"]['outcome'])\n",
    "vc.score(X[\"2016-11-08\":],T[\"2016-11-08\":]['outcome'])"
   ]
  },
  {
   "cell_type": "code",
   "execution_count": 80,
   "metadata": {
    "collapsed": false
   },
   "outputs": [
    {
     "data": {
      "text/plain": [
       "0.54941341082768269"
      ]
     },
     "execution_count": 80,
     "metadata": {},
     "output_type": "execute_result"
    }
   ],
   "source": [
    "sum(Tout['outcome']==1)/len(Tout)"
   ]
  },
  {
   "cell_type": "code",
   "execution_count": 81,
   "metadata": {
    "collapsed": false
   },
   "outputs": [
    {
     "data": {
      "text/plain": [
       "0.45058658917231731"
      ]
     },
     "execution_count": 81,
     "metadata": {},
     "output_type": "execute_result"
    }
   ],
   "source": [
    "sum(Tout['outcome']==-1)/len(Tout)"
   ]
  },
  {
   "cell_type": "code",
   "execution_count": null,
   "metadata": {
    "collapsed": true
   },
   "outputs": [],
   "source": []
  }
 ],
 "metadata": {
  "anaconda-cloud": {},
  "kernelspec": {
   "display_name": "Python 2",
   "language": "python",
   "name": "python2"
  },
  "language_info": {
   "codemirror_mode": {
    "name": "ipython",
    "version": 2
   },
   "file_extension": ".py",
   "mimetype": "text/x-python",
   "name": "python",
   "nbconvert_exporter": "python",
   "pygments_lexer": "ipython2",
   "version": "2.7.11"
  }
 },
 "nbformat": 4,
 "nbformat_minor": 0
}
