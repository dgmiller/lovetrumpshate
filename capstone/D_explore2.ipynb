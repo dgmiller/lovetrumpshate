{
 "cells": [
  {
   "cell_type": "code",
   "execution_count": 78,
   "metadata": {
    "collapsed": false
   },
   "outputs": [
    {
     "data": {
      "text/plain": [
       "<module 'utils' from 'utils.py'>"
      ]
     },
     "execution_count": 78,
     "metadata": {},
     "output_type": "execute_result"
    }
   ],
   "source": [
    "import utils as ut\n",
    "import numpy as np\n",
    "from sklearn.linear_model import LogisticRegressionCV,LogisticRegression\n",
    "reload(ut)"
   ]
  },
  {
   "cell_type": "code",
   "execution_count": 79,
   "metadata": {
    "collapsed": false,
    "scrolled": true
   },
   "outputs": [
    {
     "name": "stdout",
     "output_type": "stream",
     "text": [
      "\n",
      "\tOptions\n",
      "\n",
      "            1: trump from lab computer\n",
      "\n",
      "            2: trump from linux mint\n",
      "\n",
      "            3: clinton from lab computer\n",
      "\n",
      "            4: clinton from linux mint\n",
      "\n",
      "\n",
      "Enter number >> 1\n"
     ]
    }
   ],
   "source": [
    "filename = ut.get_file()"
   ]
  },
  {
   "cell_type": "code",
   "execution_count": 80,
   "metadata": {
    "collapsed": false
   },
   "outputs": [
    {
     "name": "stdout",
     "output_type": "stream",
     "text": [
      "Loading file...\n",
      "\n",
      "Errors: 0\n",
      "Time: 0.614356994629\n",
      "Cleaning text...\n",
      "Time: 0.00217485427856\n",
      "Converting time to datetime object...\n",
      "Time: 0.000529050827026\n"
     ]
    }
   ],
   "source": [
    "reload(ut)\n",
    "Trump = ut.TwitterCorpus(filename,n=-2000,m=-1900)\n",
    "Trump.clean_text()\n",
    "Trump.convert_time()"
   ]
  },
  {
   "cell_type": "code",
   "execution_count": 81,
   "metadata": {
    "collapsed": false
   },
   "outputs": [
    {
     "data": {
      "text/plain": [
       "['morning in america: trump wins presidency https://t.co/qpakgsi86z https://t.co/ne5vogtmax\\n',\n",
       " 'att frsta europeiska ledaren som grattat trump till segern va marie le pen\\n',\n",
       " 'honestly pls tweet at me about how you voted trump so i can block ur horrible ass\\n',\n",
       " 'i really wanna beat yo ass. dont come to brooklyn cuz its on sight for that ass. https://t.co/b8ckf4dzsg\\n',\n",
       " 'ignorant people who couldnt be bothered to vote before are screwing the uk and us economy  #brexit #trump #firsttimevoters\\n']"
      ]
     },
     "execution_count": 81,
     "metadata": {},
     "output_type": "execute_result"
    }
   ],
   "source": [
    "#df = Trump.make_df()\n",
    "Trump.tweets[:5]"
   ]
  },
  {
   "cell_type": "code",
   "execution_count": 82,
   "metadata": {
    "collapsed": false
   },
   "outputs": [],
   "source": [
    "from nltk.sentiment.vader import SentimentIntensityAnalyzer"
   ]
  },
  {
   "cell_type": "code",
   "execution_count": 83,
   "metadata": {
    "collapsed": false
   },
   "outputs": [
    {
     "name": "stdout",
     "output_type": "stream",
     "text": [
      "morning in america: trump wins presidency https://t.co/qpakgsi86z https://t.co/ne5vogtmax\n",
      "\n",
      "compound: 0.5719, \n",
      "neg: 0.0, \n",
      "neu: 0.654, \n",
      "pos: 0.346, \n",
      "\n",
      "\n",
      "att frsta europeiska ledaren som grattat trump till segern va marie le pen\n",
      "\n",
      "compound: 0.0, \n",
      "neg: 0.0, \n",
      "neu: 1.0, \n",
      "pos: 0.0, \n",
      "\n",
      "\n",
      "honestly pls tweet at me about how you voted trump so i can block ur horrible ass\n",
      "\n",
      "compound: -0.7832, \n",
      "neg: 0.399, \n",
      "neu: 0.432, \n",
      "pos: 0.169, \n",
      "\n",
      "\n",
      "i really wanna beat yo ass. dont come to brooklyn cuz its on sight for that ass. https://t.co/b8ckf4dzsg\n",
      "\n",
      "compound: -0.7906, \n",
      "neg: 0.318, \n",
      "neu: 0.682, \n",
      "pos: 0.0, \n",
      "\n",
      "\n",
      "ignorant people who couldnt be bothered to vote before are screwing the uk and us economy  #brexit #trump #firsttimevoters\n",
      "\n",
      "compound: -0.2589, \n",
      "neg: 0.182, \n",
      "neu: 0.729, \n",
      "pos: 0.089, \n",
      "\n",
      "\n",
      "the trainspotting monologue, but hes a trump voter with second thoughts.#elections2016\n",
      "\n",
      "compound: 0.0, \n",
      "neg: 0.0, \n",
      "neu: 1.0, \n",
      "pos: 0.0, \n",
      "\n",
      "\n",
      "women and minorities who voted for trump baffles me\n",
      "\n",
      "compound: 0.0, \n",
      "neg: 0.0, \n",
      "neu: 1.0, \n",
      "pos: 0.0, \n",
      "\n",
      "\n",
      "on est pas dans la merde avec ce cher trump\n",
      "\n",
      "compound: 0.0, \n",
      "neg: 0.0, \n",
      "neu: 1.0, \n",
      "pos: 0.0, \n",
      "\n",
      "\n",
      "my dads comment to donald trump becoming president, hell get assassinated in the next year anyway\n",
      "\n",
      "compound: -0.6808, \n",
      "neg: 0.235, \n",
      "neu: 0.765, \n",
      "pos: 0.0, \n",
      "\n",
      "\n",
      "omg trump won?\n",
      "\n",
      "compound: 0.5719, \n",
      "neg: 0.0, \n",
      "neu: 0.351, \n",
      "pos: 0.649, \n",
      "\n",
      "\n",
      "trump is a very tactical man that has a way with words, who also happens to do very well at playing with peoples intelligence.\n",
      "\n",
      "compound: 0.762, \n",
      "neg: 0.0, \n",
      "neu: 0.715, \n",
      "pos: 0.285, \n",
      "\n",
      "\n",
      "how donald trump pulled off an upset of cataclysmic, historic proportions https://t.co/fvhgmai6ha\n",
      "\n",
      "compound: -0.3818, \n",
      "neg: 0.191, \n",
      "neu: 0.809, \n",
      "pos: 0.0, \n",
      "\n",
      "\n",
      "donald trump yg jd presiden amerika ngapa gua yg was was yaaaa  gw sedih jd nya pdhl gw kaga - bubble trouble  https://t.co/2pz7fhknow\n",
      "\n",
      "compound: -0.4019, \n",
      "neg: 0.114, \n",
      "neu: 0.886, \n",
      "pos: 0.0, \n",
      "\n",
      "\n",
      "dear america,   may god be with you   #trump  #electionnight  #uselection2016 https://t.co/2dvtodgerq\n",
      "\n",
      "compound: 0.5719, \n",
      "neg: 0.0, \n",
      "neu: 0.657, \n",
      "pos: 0.343, \n",
      "\n",
      "\n",
      "job interviews manager: do you have any past experience? me: didnt think i needed it  manager: why? me: trump doesnt so why should i?\n",
      "\n",
      "compound: 0.0, \n",
      "neg: 0.0, \n",
      "neu: 1.0, \n",
      "pos: 0.0, \n",
      "\n",
      "\n",
      "that moment when your neighbors do fireworks and you think its gunshots because trump is going to be the next pres https://t.co/qwkjsto28j\n",
      "\n",
      "compound: 0.0, \n",
      "neg: 0.0, \n",
      "neu: 1.0, \n",
      "pos: 0.0, \n",
      "\n",
      "\n",
      "eu no acredito que o trump ganhou\n",
      "\n",
      "compound: -0.296, \n",
      "neg: 0.306, \n",
      "neu: 0.694, \n",
      "pos: 0.0, \n",
      "\n",
      "\n",
      "trump is a fucking gremlin and i hate america\n",
      "\n",
      "compound: -0.6077, \n",
      "neg: 0.398, \n",
      "neu: 0.602, \n",
      "pos: 0.0, \n",
      "\n",
      "\n",
      "#uselection2016 #trump #bollox https://t.co/cchbre7voo\n",
      "\n",
      "compound: 0.0, \n",
      "neg: 0.0, \n",
      "neu: 1.0, \n",
      "pos: 0.0, \n",
      "\n",
      "\n",
      "#samanthabee ha ha you got banged by trump. your shit attitude got ya nothin, nothin!\n",
      "\n",
      "compound: 0.126, \n",
      "neg: 0.174, \n",
      "neu: 0.58, \n",
      "pos: 0.246, \n",
      "\n",
      "\n",
      "2016 has been a joke! of course trump won \n",
      "\n",
      "compound: 0.7345, \n",
      "neg: 0.0, \n",
      "neu: 0.492, \n",
      "pos: 0.508, \n",
      "\n",
      "\n",
      "i just won 400$: i bet on trumps win for 200$ and doubled on a &gt;45% votes, this, one week ago. time to go get the money.\n",
      "\n",
      "compound: 0.8176, \n",
      "neg: 0.0, \n",
      "neu: 0.746, \n",
      "pos: 0.254, \n",
      "\n",
      "\n",
      "vom tellerwscher zum millionr wird in den usa wieder eine option sein, eine politische foundation nicht https://t.co/idielhsnhb\n",
      "\n",
      "compound: 0.0, \n",
      "neg: 0.0, \n",
      "neu: 1.0, \n",
      "pos: 0.0, \n",
      "\n",
      "\n",
      "i couldnt be happier that trump is our new president.\n",
      "\n",
      "compound: -0.4168, \n",
      "neg: 0.258, \n",
      "neu: 0.742, \n",
      "pos: 0.0, \n",
      "\n",
      "\n"
     ]
    }
   ],
   "source": [
    "sid = SentimentIntensityAnalyzer()\n",
    "for tweet in Trump.tweets:\n",
    "    print(tweet)\n",
    "    ss = sid.polarity_scores(tweet)\n",
    "    for k in sorted(ss):\n",
    "        print('{0}: {1}, '.format(k, ss[k]))\n",
    "    print(\"\\n\")"
   ]
  },
  {
   "cell_type": "code",
   "execution_count": 84,
   "metadata": {
    "collapsed": true
   },
   "outputs": [],
   "source": [
    "from nltk.corpus import TwitterCorpusReader,movie_reviews,opinion_lexicon,reuters"
   ]
  },
  {
   "cell_type": "code",
   "execution_count": 87,
   "metadata": {
    "collapsed": false
   },
   "outputs": [
    {
     "name": "stdout",
     "output_type": "stream",
     "text": [
      "24 76\n"
     ]
    }
   ],
   "source": [
    "print len(Trump.tweets),sum(Trump.retweets)"
   ]
  },
  {
   "cell_type": "markdown",
   "metadata": {},
   "source": [
    "Remove retweets. Select with extreme values of sentiment intensity. Reduce those tweets down to only a few important words and train on that."
   ]
  },
  {
   "cell_type": "code",
   "execution_count": null,
   "metadata": {
    "collapsed": false
   },
   "outputs": [],
   "source": []
  },
  {
   "cell_type": "code",
   "execution_count": null,
   "metadata": {
    "collapsed": true
   },
   "outputs": [],
   "source": []
  }
 ],
 "metadata": {
  "kernelspec": {
   "display_name": "Python 2",
   "language": "python",
   "name": "python2"
  },
  "language_info": {
   "codemirror_mode": {
    "name": "ipython",
    "version": 2
   },
   "file_extension": ".py",
   "mimetype": "text/x-python",
   "name": "python",
   "nbconvert_exporter": "python",
   "pygments_lexer": "ipython2",
   "version": "2.7.11"
  }
 },
 "nbformat": 4,
 "nbformat_minor": 0
}
