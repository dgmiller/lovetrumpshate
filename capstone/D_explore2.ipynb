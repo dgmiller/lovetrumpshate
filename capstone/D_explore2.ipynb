{
 "cells": [
  {
   "cell_type": "code",
   "execution_count": 15,
   "metadata": {
    "collapsed": false
   },
   "outputs": [
    {
     "data": {
      "text/plain": [
       "<module 'utils' from 'utils.py'>"
      ]
     },
     "execution_count": 15,
     "metadata": {},
     "output_type": "execute_result"
    }
   ],
   "source": [
    "import utils as ut\n",
    "import numpy as np\n",
    "from sklearn.linear_model import LogisticRegressionCV,LogisticRegression\n",
    "reload(ut)"
   ]
  },
  {
   "cell_type": "code",
   "execution_count": 19,
   "metadata": {
    "collapsed": false,
    "scrolled": true
   },
   "outputs": [
    {
     "name": "stdout",
     "output_type": "stream",
     "text": [
      "\n",
      "\tOptions\n",
      "\n",
      "            1: trump from lab computer\n",
      "\n",
      "            2: trump from linux mint\n",
      "\n",
      "            3: clinton from lab computer\n",
      "\n",
      "            4: clinton from linux mint\n",
      "\n",
      "\n",
      "Enter number >> 1\n"
     ]
    }
   ],
   "source": [
    "filename = ut.get_file()"
   ]
  },
  {
   "cell_type": "code",
   "execution_count": 20,
   "metadata": {
    "collapsed": false
   },
   "outputs": [
    {
     "name": "stdout",
     "output_type": "stream",
     "text": [
      "Loading file...\n",
      "\n",
      "Errors: 0\n",
      "Time: 0.610360860825\n",
      "Cleaning text...\n",
      "Time: 0.00218605995178\n",
      "Converting time to datetime object...\n",
      "Time: 0.000547885894775\n"
     ]
    }
   ],
   "source": [
    "reload(ut)\n",
    "Trump = ut.TwitterCorpus(filename,n=-2000,m=-1900)\n",
    "Trump.clean_text()\n",
    "Trump.convert_time()"
   ]
  },
  {
   "cell_type": "code",
   "execution_count": 21,
   "metadata": {
    "collapsed": false
   },
   "outputs": [
    {
     "data": {
      "text/plain": [
       "['morning in america: trump wins presidency https://t.co/qpakgsi86z https://t.co/ne5vogtmax\\n',\n",
       " 'att frsta europeiska ledaren som grattat trump till segern va marie le pen\\n',\n",
       " 'honestly pls tweet at me about how you voted trump so i can block ur horrible ass\\n',\n",
       " \"i really wanna beat yo ass. don't come to brooklyn cuz it's on sight for that ass. https://t.co/b8ckf4dzsg\\n\",\n",
       " \"ignorant people who couldn't be bothered to vote before are screwing the uk and us economy  #brexit #trump #firsttimevoters\\n\",\n",
       " \"the trainspotting monologue, but he's a trump voter with second thoughts.#elections2016\\n\",\n",
       " 'women and minorities who voted for trump baffles me\\n',\n",
       " 'on est pas dans la merde avec ce cher trump\\n',\n",
       " \"my dads comment to donald trump becoming president, 'he'll get assassinated in the next year anyway'\\n\",\n",
       " 'omg trump won?\\n',\n",
       " \"trump is a very tactical man that has a way with words, who also happens to do very well at playing with people's intelligence.\\n\",\n",
       " 'how donald trump pulled off an upset of cataclysmic, historic proportions https://t.co/fvhgmai6ha\\n',\n",
       " 'donald trump yg jd presiden amerika ngapa gua yg was was yaaaa  gw sedih jd nya pdhl gw kaga - bubble trouble  https://t.co/2pz7fhknow\\n',\n",
       " 'dear america,   may god be with you   #trump  #electionnight  #uselection2016 https://t.co/2dvtodgerq\\n',\n",
       " \"job interviews manager: do you have any past experience? me: didn't think i needed it  manager: why? me: trump doesn't so why should i?\\n\"]"
      ]
     },
     "execution_count": 21,
     "metadata": {},
     "output_type": "execute_result"
    }
   ],
   "source": [
    "#df = Trump.make_df()\n",
    "Trump.tweets[:15]"
   ]
  },
  {
   "cell_type": "code",
   "execution_count": 22,
   "metadata": {
    "collapsed": false
   },
   "outputs": [],
   "source": [
    "from nltk.sentiment.vader import SentimentIntensityAnalyzer"
   ]
  },
  {
   "cell_type": "code",
   "execution_count": 37,
   "metadata": {
    "collapsed": false
   },
   "outputs": [
    {
     "name": "stdout",
     "output_type": "stream",
     "text": [
      "(1, 'morning in america: trump wins presidency https://t.co/qpakgsi86z https://t.co/ne5vogtmax\\n')\n",
      "pos: 0.346 compound: 0.5719\n",
      "\n",
      "\n",
      "(2, \"i really wanna beat yo ass. don't come to brooklyn cuz it's on sight for that ass. https://t.co/b8ckf4dzsg\\n\")\n",
      "neg: -0.318 compound: -0.7906\n",
      "\n",
      "\n",
      "(3, 'omg trump won?\\n')\n",
      "pos: 0.649 compound: 0.5719\n",
      "\n",
      "\n",
      "(4, \"trump is a very tactical man that has a way with words, who also happens to do very well at playing with people's intelligence.\\n\")\n",
      "pos: 0.285 compound: 0.762\n",
      "\n",
      "\n",
      "(5, 'how donald trump pulled off an upset of cataclysmic, historic proportions https://t.co/fvhgmai6ha\\n')\n",
      "neg: -0.191 compound: -0.3818\n",
      "\n",
      "\n",
      "(6, 'donald trump yg jd presiden amerika ngapa gua yg was was yaaaa  gw sedih jd nya pdhl gw kaga - bubble trouble  https://t.co/2pz7fhknow\\n')\n",
      "neg: -0.114 compound: -0.4019\n",
      "\n",
      "\n",
      "(7, 'dear america,   may god be with you   #trump  #electionnight  #uselection2016 https://t.co/2dvtodgerq\\n')\n",
      "pos: 0.343 compound: 0.5719\n",
      "\n",
      "\n",
      "(8, 'eu no acredito que o trump ganhou\\n')\n",
      "neg: -0.306 compound: -0.296\n",
      "\n",
      "\n",
      "(9, 'trump is a fucking gremlin and i hate america\\n')\n",
      "neg: -0.398 compound: -0.6077\n",
      "\n",
      "\n",
      "(10, '2016 has been a joke! of course trump won \\n')\n",
      "pos: 0.508 compound: 0.7345\n",
      "\n",
      "\n",
      "(11, \"i just won 400$: i bet on trump's win for 200$ and doubled on a &gt;45% votes, this, one week ago. time to go get the money.\\n\")\n",
      "pos: 0.254 compound: 0.8176\n",
      "\n",
      "\n",
      "(12, \"i couldn't be happier that trump is our new president.\\n\")\n",
      "neg: -0.258 compound: -0.4168\n",
      "\n",
      "\n"
     ]
    }
   ],
   "source": [
    "sid = SentimentIntensityAnalyzer()\n",
    "i = 1\n",
    "for tweet in Trump.tweets:\n",
    "    ss = sid.polarity_scores(tweet)\n",
    "    if ss['neg'] > 0 and ss['pos'] == 0:\n",
    "        print(i,tweet)\n",
    "        print \"neg:\",-1*ss['neg'],\"compound:\",ss['compound']\n",
    "        print(\"\\n\")\n",
    "        i += 1\n",
    "    elif ss['pos'] > 0 and ss['neg'] == 0:\n",
    "        print(i,tweet)\n",
    "        print \"pos:\",ss['pos'],\"compound:\",ss['compound']\n",
    "        print '\\n'\n",
    "        i += 1"
   ]
  },
  {
   "cell_type": "code",
   "execution_count": 24,
   "metadata": {
    "collapsed": false
   },
   "outputs": [
    {
     "name": "stdout",
     "output_type": "stream",
     "text": [
      "24 76\n"
     ]
    }
   ],
   "source": [
    "print len(Trump.tweets),sum(Trump.retweets)"
   ]
  },
  {
   "cell_type": "markdown",
   "metadata": {},
   "source": [
    "Remove retweets. Select with extreme values of sentiment intensity. Reduce those tweets down to only a few important words and train on that."
   ]
  },
  {
   "cell_type": "code",
   "execution_count": 30,
   "metadata": {
    "collapsed": false
   },
   "outputs": [],
   "source": [
    "df = Trump.make_df()"
   ]
  },
  {
   "cell_type": "code",
   "execution_count": 31,
   "metadata": {
    "collapsed": false
   },
   "outputs": [
    {
     "data": {
      "text/html": [
       "<div>\n",
       "<table border=\"1\" class=\"dataframe\">\n",
       "  <thead>\n",
       "    <tr style=\"text-align: right;\">\n",
       "      <th></th>\n",
       "      <th>time</th>\n",
       "      <th>usr_fol</th>\n",
       "      <th>usr_n_stat</th>\n",
       "      <th>usr_fri</th>\n",
       "      <th>n_weblinks</th>\n",
       "      <th>n_mentions</th>\n",
       "      <th>n_hashtags</th>\n",
       "      <th>RT</th>\n",
       "    </tr>\n",
       "  </thead>\n",
       "  <tbody>\n",
       "    <tr>\n",
       "      <th>0</th>\n",
       "      <td>2016-11-09 01:45:49</td>\n",
       "      <td>2292.0</td>\n",
       "      <td>52484.0</td>\n",
       "      <td>1130.0</td>\n",
       "      <td>0</td>\n",
       "      <td>2</td>\n",
       "      <td>1</td>\n",
       "      <td>1</td>\n",
       "    </tr>\n",
       "    <tr>\n",
       "      <th>1</th>\n",
       "      <td>2016-11-09 01:45:49</td>\n",
       "      <td>5958.0</td>\n",
       "      <td>339247.0</td>\n",
       "      <td>6787.0</td>\n",
       "      <td>2</td>\n",
       "      <td>0</td>\n",
       "      <td>0</td>\n",
       "      <td>0</td>\n",
       "    </tr>\n",
       "    <tr>\n",
       "      <th>2</th>\n",
       "      <td>2016-11-09 01:45:49</td>\n",
       "      <td>1060.0</td>\n",
       "      <td>19736.0</td>\n",
       "      <td>352.0</td>\n",
       "      <td>0</td>\n",
       "      <td>1</td>\n",
       "      <td>0</td>\n",
       "      <td>1</td>\n",
       "    </tr>\n",
       "    <tr>\n",
       "      <th>3</th>\n",
       "      <td>2016-11-09 01:45:49</td>\n",
       "      <td>1846.0</td>\n",
       "      <td>34434.0</td>\n",
       "      <td>1571.0</td>\n",
       "      <td>2</td>\n",
       "      <td>1</td>\n",
       "      <td>1</td>\n",
       "      <td>1</td>\n",
       "    </tr>\n",
       "    <tr>\n",
       "      <th>4</th>\n",
       "      <td>2016-11-09 01:45:49</td>\n",
       "      <td>852.0</td>\n",
       "      <td>25740.0</td>\n",
       "      <td>554.0</td>\n",
       "      <td>0</td>\n",
       "      <td>1</td>\n",
       "      <td>0</td>\n",
       "      <td>1</td>\n",
       "    </tr>\n",
       "  </tbody>\n",
       "</table>\n",
       "</div>"
      ],
      "text/plain": [
       "                 time  usr_fol  usr_n_stat  usr_fri  n_weblinks  n_mentions  \\\n",
       "0 2016-11-09 01:45:49   2292.0     52484.0   1130.0           0           2   \n",
       "1 2016-11-09 01:45:49   5958.0    339247.0   6787.0           2           0   \n",
       "2 2016-11-09 01:45:49   1060.0     19736.0    352.0           0           1   \n",
       "3 2016-11-09 01:45:49   1846.0     34434.0   1571.0           2           1   \n",
       "4 2016-11-09 01:45:49    852.0     25740.0    554.0           0           1   \n",
       "\n",
       "   n_hashtags  RT  \n",
       "0           1   1  \n",
       "1           0   0  \n",
       "2           0   1  \n",
       "3           1   1  \n",
       "4           0   1  "
      ]
     },
     "execution_count": 31,
     "metadata": {},
     "output_type": "execute_result"
    }
   ],
   "source": [
    "df.head()"
   ]
  },
  {
   "cell_type": "code",
   "execution_count": null,
   "metadata": {
    "collapsed": true
   },
   "outputs": [],
   "source": []
  }
 ],
 "metadata": {
  "anaconda-cloud": {},
  "kernelspec": {
   "display_name": "Python 2",
   "language": "python",
   "name": "python2"
  },
  "language_info": {
   "codemirror_mode": {
    "name": "ipython",
    "version": 2
   },
   "file_extension": ".py",
   "mimetype": "text/x-python",
   "name": "python",
   "nbconvert_exporter": "python",
   "pygments_lexer": "ipython2",
   "version": "2.7.11"
  }
 },
 "nbformat": 4,
 "nbformat_minor": 0
}
