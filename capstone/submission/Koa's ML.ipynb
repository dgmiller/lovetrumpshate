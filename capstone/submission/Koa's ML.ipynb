{
 "cells": [
  {
   "cell_type": "markdown",
   "metadata": {},
   "source": [
    "# Machine Learning Methods\n",
    "\n",
    "Koa\n",
    "\n",
    "+ YES linear/quadratic/Gaussian discriminant analysis\n",
    "+ YES logistic regression with and without regularization\n",
    "+ YES softmax regression with and without regularization\n",
    "\n",
    "\n",
    "Derek\n",
    "\n",
    "+ YES naive Bayes\n",
    "+ YES support vector machines and the kernel trick\n",
    "+ YES XGBoost\n",
    "\n",
    "\n",
    "Later\n",
    "\n",
    "~ YES neural networks\n",
    "~ YES Kalman filter\n",
    "~ YES AR, MA, ARMA, ARIMA time series models\n",
    "\n",
    "\n",
    "+ NO nearest neighbor\n",
    "+ NO linear regression\n",
    "+ NO ridge regression\n",
    "+ NO mixture models with latent variables (train with EM)\n",
    "+ NO decision trees\n",
    "+ NO random forests\n",
    "+ NO gradient boosted trees\n",
    "+ NO hidden Markov models (more coming on this)"
   ]
  },
  {
   "cell_type": "code",
   "execution_count": 3,
   "metadata": {
    "collapsed": false
   },
   "outputs": [
    {
     "data": {
      "text/plain": [
       "<module 'utils' from 'utils.pyc'>"
      ]
     },
     "execution_count": 3,
     "metadata": {},
     "output_type": "execute_result"
    }
   ],
   "source": [
    "# import statements\n",
    "import utils as ut\n",
    "import numpy as np\n",
    "import pandas as pd\n",
    "import matplotlib.pyplot as plt\n",
    "from scipy import linalg as la\n",
    "import scipy.optimize as opt\n",
    "from sklearn import linear_model\n",
    "# plt.style.use('acme')\n",
    "%matplotlib inline\n",
    "reload(ut)"
   ]
  },
  {
   "cell_type": "code",
   "execution_count": 149,
   "metadata": {
    "collapsed": false
   },
   "outputs": [
    {
     "data": {
      "text/html": [
       "<div>\n",
       "<table border=\"1\" class=\"dataframe\">\n",
       "  <thead>\n",
       "    <tr style=\"text-align: right;\">\n",
       "      <th></th>\n",
       "      <th>ts</th>\n",
       "      <th>usr_fol</th>\n",
       "      <th>usr_n_stat</th>\n",
       "      <th>usr_fri</th>\n",
       "      <th>n_weblinks</th>\n",
       "      <th>n_mentions</th>\n",
       "      <th>n_hashtags</th>\n",
       "      <th>neu</th>\n",
       "      <th>comp</th>\n",
       "      <th>pos-neg</th>\n",
       "    </tr>\n",
       "    <tr>\n",
       "      <th>ts</th>\n",
       "      <th></th>\n",
       "      <th></th>\n",
       "      <th></th>\n",
       "      <th></th>\n",
       "      <th></th>\n",
       "      <th></th>\n",
       "      <th></th>\n",
       "      <th></th>\n",
       "      <th></th>\n",
       "      <th></th>\n",
       "    </tr>\n",
       "  </thead>\n",
       "  <tbody>\n",
       "    <tr>\n",
       "      <th>2016-10-19 07:00:13.849</th>\n",
       "      <td>1476885613849</td>\n",
       "      <td>684.0</td>\n",
       "      <td>4048.0</td>\n",
       "      <td>1221.0</td>\n",
       "      <td>1</td>\n",
       "      <td>2</td>\n",
       "      <td>0</td>\n",
       "      <td>0.811</td>\n",
       "      <td>0.4215</td>\n",
       "      <td>0.189</td>\n",
       "    </tr>\n",
       "    <tr>\n",
       "      <th>2016-10-19 07:00:14.997</th>\n",
       "      <td>1476885614997</td>\n",
       "      <td>501.0</td>\n",
       "      <td>243795.0</td>\n",
       "      <td>0.0</td>\n",
       "      <td>1</td>\n",
       "      <td>0</td>\n",
       "      <td>0</td>\n",
       "      <td>0.734</td>\n",
       "      <td>-0.4404</td>\n",
       "      <td>-0.266</td>\n",
       "    </tr>\n",
       "    <tr>\n",
       "      <th>2016-10-19 07:00:15.205</th>\n",
       "      <td>1476885615205</td>\n",
       "      <td>3150.0</td>\n",
       "      <td>11609.0</td>\n",
       "      <td>3.0</td>\n",
       "      <td>1</td>\n",
       "      <td>0</td>\n",
       "      <td>3</td>\n",
       "      <td>0.882</td>\n",
       "      <td>0.2500</td>\n",
       "      <td>0.118</td>\n",
       "    </tr>\n",
       "    <tr>\n",
       "      <th>2016-10-19 07:00:15.125</th>\n",
       "      <td>1476885615125</td>\n",
       "      <td>962.0</td>\n",
       "      <td>11007.0</td>\n",
       "      <td>546.0</td>\n",
       "      <td>1</td>\n",
       "      <td>1</td>\n",
       "      <td>0</td>\n",
       "      <td>0.800</td>\n",
       "      <td>-0.3612</td>\n",
       "      <td>-0.200</td>\n",
       "    </tr>\n",
       "    <tr>\n",
       "      <th>2016-10-19 07:00:15.016</th>\n",
       "      <td>1476885615016</td>\n",
       "      <td>38.0</td>\n",
       "      <td>666.0</td>\n",
       "      <td>150.0</td>\n",
       "      <td>1</td>\n",
       "      <td>0</td>\n",
       "      <td>0</td>\n",
       "      <td>0.798</td>\n",
       "      <td>0.5859</td>\n",
       "      <td>0.202</td>\n",
       "    </tr>\n",
       "  </tbody>\n",
       "</table>\n",
       "</div>"
      ],
      "text/plain": [
       "                                    ts  usr_fol  usr_n_stat  usr_fri  \\\n",
       "ts                                                                     \n",
       "2016-10-19 07:00:13.849  1476885613849    684.0      4048.0   1221.0   \n",
       "2016-10-19 07:00:14.997  1476885614997    501.0    243795.0      0.0   \n",
       "2016-10-19 07:00:15.205  1476885615205   3150.0     11609.0      3.0   \n",
       "2016-10-19 07:00:15.125  1476885615125    962.0     11007.0    546.0   \n",
       "2016-10-19 07:00:15.016  1476885615016     38.0       666.0    150.0   \n",
       "\n",
       "                         n_weblinks  n_mentions  n_hashtags    neu    comp  \\\n",
       "ts                                                                           \n",
       "2016-10-19 07:00:13.849           1           2           0  0.811  0.4215   \n",
       "2016-10-19 07:00:14.997           1           0           0  0.734 -0.4404   \n",
       "2016-10-19 07:00:15.205           1           0           3  0.882  0.2500   \n",
       "2016-10-19 07:00:15.125           1           1           0  0.800 -0.3612   \n",
       "2016-10-19 07:00:15.016           1           0           0  0.798  0.5859   \n",
       "\n",
       "                         pos-neg  \n",
       "ts                                \n",
       "2016-10-19 07:00:13.849    0.189  \n",
       "2016-10-19 07:00:14.997   -0.266  \n",
       "2016-10-19 07:00:15.205    0.118  \n",
       "2016-10-19 07:00:15.125   -0.200  \n",
       "2016-10-19 07:00:15.016    0.202  "
      ]
     },
     "execution_count": 149,
     "metadata": {},
     "output_type": "execute_result"
    }
   ],
   "source": [
    "#c,df,T = ut.make_train_test()\n",
    "fname = '/home/byu.local/fishekoa/myacmeshare/lovetrumpshate/capstone/data/before_inaug/cleantrump.csv'\n",
    "T = pd.read_csv(fname)\n",
    "T.index = pd.to_datetime(T['ts'],unit='ms') - pd.DateOffset(hours=7)\n",
    "T.tail()\n",
    "df = pd.read_csv(\"/home/byu.local/fishekoa/myacmeshare/lovetrumpshate/capstone/data/before_inaug/trumpdf.csv\")\n",
    "df = df.drop([\"text\",'time'],axis=1)\n",
    "T.head()"
   ]
  },
  {
   "cell_type": "code",
   "execution_count": 151,
   "metadata": {
    "collapsed": false
   },
   "outputs": [
    {
     "name": "stdout",
     "output_type": "stream",
     "text": [
      "((237005, 9), (237005,))\n",
      "((101574, 9), (101574,))\n"
     ]
    }
   ],
   "source": [
    "from sklearn.model_selection import train_test_split\n",
    "\n",
    "T[T[\"pos-neg\"] > 0] = 1.\n",
    "T[T[\"pos-neg\"] < 0] = 0\n",
    "# print T.drop(\"pos-neg\",axis=1)\n",
    "X_train, X_test, y_train, y_test = train_test_split(T.drop([\"pos-neg\"],axis=1), T[\"pos-neg\"], test_size=0.3, random_state=0)\n",
    "print(X_train.shape, y_train.shape)\n",
    "print(X_test.shape, y_test.shape)\n",
    "# for i in xrange(len(y_train)):\n",
    "#     if y_train[i] > 0:\n",
    "#         y_train[i] = 1.\n",
    "#     else:\n",
    "#         y_train[i] = 0"
   ]
  },
  {
   "cell_type": "markdown",
   "metadata": {},
   "source": [
    "## Logistic Regression"
   ]
  },
  {
   "cell_type": "code",
   "execution_count": 152,
   "metadata": {
    "collapsed": false
   },
   "outputs": [
    {
     "data": {
      "text/plain": [
       "1.0"
      ]
     },
     "execution_count": 152,
     "metadata": {},
     "output_type": "execute_result"
    }
   ],
   "source": [
    "Tnew = T.copy()\n",
    "A = np.array(Tnew[[\"n_weblinks\"]])\n",
    "Tnew[Tnew[\"pos-neg\"] > 0] = 1.\n",
    "Tnew[Tnew[\"pos-neg\"] < 0] = 0\n",
    "b = np.array(Tnew[\"pos-neg\"])\n",
    "\n",
    "#Add ones to end of A\n",
    "A = np.append(A,np.ones([len(A),1]),axis=1)\n",
    "# print A.shape[1]\n",
    "\n",
    "#Plug in A and b into our own least squares function to get our w.\n",
    "reg = linear_model.LogisticRegression(solver='lbfgs')\n",
    "\n",
    "reg.fit(X_train,y_train)\n",
    "reg.score(X_test,y_test)"
   ]
  },
  {
   "cell_type": "code",
   "execution_count": 147,
   "metadata": {
    "collapsed": false
   },
   "outputs": [
    {
     "data": {
      "text/plain": [
       "1.0"
      ]
     },
     "execution_count": 147,
     "metadata": {},
     "output_type": "execute_result"
    }
   ],
   "source": [
    "clf = linear_model.SGDClassifier(loss='log')\n",
    "clf.fit(X_train,y_train)\n",
    "\n",
    "clf.score(X_test,y_test)"
   ]
  },
  {
   "cell_type": "code",
   "execution_count": null,
   "metadata": {
    "collapsed": true
   },
   "outputs": [],
   "source": []
  }
 ],
 "metadata": {
  "kernelspec": {
   "display_name": "Python 2",
   "language": "python",
   "name": "python2"
  },
  "language_info": {
   "codemirror_mode": {
    "name": "ipython",
    "version": 2
   },
   "file_extension": ".py",
   "mimetype": "text/x-python",
   "name": "python",
   "nbconvert_exporter": "python",
   "pygments_lexer": "ipython2",
   "version": "2.7.11"
  }
 },
 "nbformat": 4,
 "nbformat_minor": 0
}
