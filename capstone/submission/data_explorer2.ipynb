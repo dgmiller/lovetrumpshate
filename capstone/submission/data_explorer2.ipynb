{
 "cells": [
  {
   "cell_type": "markdown",
   "metadata": {},
   "source": [
    "# Donaldometer\n",
    "### measuring presidential sentiment on Twitter"
   ]
  },
  {
   "cell_type": "markdown",
   "metadata": {},
   "source": [
    "Twitter data using Twitter’s Streaming API on 19 October 2016. Data was collected semi-frequently until a few days before election day. Tweets and metadata were also collected on Election Day until 2:00 am on 9 November 2016 and Inauguration Day 2017.\n",
    "\n",
    "Twitter's Streaming API delivered a randomized sample of incoming tweets that contain keywords chosen by the developer.\n",
    "From last semester, Derek wrote a module called `utils.py` to store the data in an object called `TwitterCorpus`. This file was modified to accomodate new objectives for this project. The `TwitterCorpus` object has a variety of methods for data cleaning and feature extraction. The `clean_text` method uses regular expressions to go through each tweet and identify and store certain attributes of the tweet. Another method is the `convert_time` method. This takes the Unix timestamp of the tweet and converts it into a datetime object which is part of the Python standard library. This will be helpful for time-series analyses performed on the data. The `TwitterCorpus` object generates a `pandas DataFrame` using `make_df`. There were 2,666,819 tweets collected for the Trump keyword data set on election day. For this project, the data set will be trained and tested on the election day data set.\n",
    "\n",
    "Each observation corresponds to a tweet. Below are the variable names and their corresponding descriptions:\n",
    "+ time: the date and time the tweet was collected. Time is in standard 24 hour format.\n",
    "+ usr_fol: the number of people following the user\n",
    "+ usr_n_stat: the number of statuses (tweets) to date of the user\n",
    "+ usr_fri: the number of people that the user is following\n",
    "+ n_weblinks: the number of URLs in the tweet\n",
    "+ n_mentions: the number of people mentioned in the tweet\n",
    "+ n_hashtags: the number of hashtags in the tweet\n",
    "+ RT: whether or not the tweet was a retweet\n",
    "+ neg: the negative valence (sentiment) score of the tweet text\n",
    "+ neu: the neutral valence score\n",
    "+ pos: the positive valence score\n",
    "+ comp: the compound valence score, a weighted average of neg, neu, and pos\n",
    "\n",
    "\n",
    "Direct answers to questions:\n",
    "\n",
    "1. All these conditions are handled by `utils.py`\n",
    "2. The Twitter data are as reliable as the Streaming API's sample. The Valence scores are mostly reliable. The library used (`nltk.sentiment.vader`) was designed to use on Twitter data. However, there are unsolved problems in natural language processing and this data will not account for that. Despite this, we should have enough data to produce a good result given the large sample size. There is no missing data.\n",
    "3. Our problem is to predict whether a tweet is pro-Trump or anti-Trump. This data set has a strong correlation to Donald Trump since they were collected during the election cycle. The data are sufficient to solve this problem and directly relate to our question: how mad is Twitter at Trump? Some aspects may need further engineering, however, since the valence scores are not perfect correlates with tweet sentiment. We will not know what to modify until we start exploring algorithms.\n",
    "4. See proposal"
   ]
  },
  {
   "cell_type": "code",
   "execution_count": 9,
   "metadata": {
    "collapsed": false
   },
   "outputs": [
    {
     "data": {
      "text/plain": [
       "<module 'utils' from 'utils.pyc'>"
      ]
     },
     "execution_count": 9,
     "metadata": {},
     "output_type": "execute_result"
    }
   ],
   "source": [
    "import utils as ut\n",
    "import numpy as np\n",
    "from sklearn.linear_model import LogisticRegressionCV,LogisticRegression\n",
    "reload(ut)"
   ]
  },
  {
   "cell_type": "code",
   "execution_count": 10,
   "metadata": {
    "collapsed": false,
    "scrolled": true
   },
   "outputs": [
    {
     "name": "stdout",
     "output_type": "stream",
     "text": [
      "\n",
      "\tOptions\n",
      "\n",
      "            1: trump from lab computer\n",
      "\n",
      "            2: trump from linux mint\n",
      "\n",
      "            3: clinton from lab computer\n",
      "\n",
      "            4: clinton from linux mint\n",
      "\n",
      "\n",
      "Enter number >> 1\n"
     ]
    }
   ],
   "source": [
    "filename = ut.get_file()"
   ]
  },
  {
   "cell_type": "code",
   "execution_count": 11,
   "metadata": {
    "collapsed": false
   },
   "outputs": [
    {
     "name": "stdout",
     "output_type": "stream",
     "text": [
      "Loading file...\n",
      "\n",
      "Errors: 0\n",
      "Time: 12.1520459652\n",
      "Cleaning text...\n",
      "Time: 25.2041931152\n",
      "Converting time to datetime object...\n",
      "Time: 7.17876005173\n"
     ]
    }
   ],
   "source": [
    "reload(ut)\n",
    "Trump = ut.TwitterCorpus(filename,n=None,m=None)\n",
    "Trump.clean_text()\n",
    "Trump.convert_time()"
   ]
  },
  {
   "cell_type": "code",
   "execution_count": 12,
   "metadata": {
    "collapsed": false
   },
   "outputs": [
    {
     "name": "stdout",
     "output_type": "stream",
     "text": [
      "2666820 1887599\n"
     ]
    }
   ],
   "source": [
    "print len(Trump.tweets),sum(Trump.retweets)"
   ]
  },
  {
   "cell_type": "code",
   "execution_count": 13,
   "metadata": {
    "collapsed": false
   },
   "outputs": [
    {
     "name": "stdout",
     "output_type": "stream",
     "text": [
      "Time: 602.116089106\n"
     ]
    }
   ],
   "source": [
    "df = Trump.make_df()"
   ]
  },
  {
   "cell_type": "code",
   "execution_count": 14,
   "metadata": {
    "collapsed": false,
    "scrolled": true
   },
   "outputs": [
    {
     "data": {
      "text/html": [
       "<div>\n",
       "<table border=\"1\" class=\"dataframe\">\n",
       "  <thead>\n",
       "    <tr style=\"text-align: right;\">\n",
       "      <th></th>\n",
       "      <th>time</th>\n",
       "      <th>usr_fol</th>\n",
       "      <th>usr_n_stat</th>\n",
       "      <th>usr_fri</th>\n",
       "      <th>n_weblinks</th>\n",
       "      <th>n_mentions</th>\n",
       "      <th>n_hashtags</th>\n",
       "      <th>RT</th>\n",
       "      <th>neg</th>\n",
       "      <th>neu</th>\n",
       "      <th>pos</th>\n",
       "      <th>comp</th>\n",
       "      <th>text</th>\n",
       "    </tr>\n",
       "  </thead>\n",
       "  <tbody>\n",
       "    <tr>\n",
       "      <th>2666815</th>\n",
       "      <td>2016-11-09 01:46:30</td>\n",
       "      <td>450.0</td>\n",
       "      <td>34016.0</td>\n",
       "      <td>375.0</td>\n",
       "      <td>1</td>\n",
       "      <td>1</td>\n",
       "      <td>0</td>\n",
       "      <td>1</td>\n",
       "      <td>0.000</td>\n",
       "      <td>1.000</td>\n",
       "      <td>0.000</td>\n",
       "      <td>0.0000</td>\n",
       "      <td>RT @dave_izeidi: Mdr qui ne tente rien n'a rie...</td>\n",
       "    </tr>\n",
       "    <tr>\n",
       "      <th>2666816</th>\n",
       "      <td>2016-11-09 01:46:30</td>\n",
       "      <td>3707.0</td>\n",
       "      <td>1030.0</td>\n",
       "      <td>265.0</td>\n",
       "      <td>0</td>\n",
       "      <td>1</td>\n",
       "      <td>0</td>\n",
       "      <td>1</td>\n",
       "      <td>0.000</td>\n",
       "      <td>0.786</td>\n",
       "      <td>0.214</td>\n",
       "      <td>0.5994</td>\n",
       "      <td>RT @SJTEMI: Yoooo. Well if Donald Trump can be...</td>\n",
       "    </tr>\n",
       "    <tr>\n",
       "      <th>2666817</th>\n",
       "      <td>2016-11-09 01:46:30</td>\n",
       "      <td>187.0</td>\n",
       "      <td>3072.0</td>\n",
       "      <td>328.0</td>\n",
       "      <td>0</td>\n",
       "      <td>1</td>\n",
       "      <td>1</td>\n",
       "      <td>1</td>\n",
       "      <td>0.651</td>\n",
       "      <td>0.247</td>\n",
       "      <td>0.102</td>\n",
       "      <td>-0.9499</td>\n",
       "      <td>RT @OTRADaily: Trump didn't win. Racism won. S...</td>\n",
       "    </tr>\n",
       "    <tr>\n",
       "      <th>2666818</th>\n",
       "      <td>2016-11-09 01:46:30</td>\n",
       "      <td>71.0</td>\n",
       "      <td>7743.0</td>\n",
       "      <td>6.0</td>\n",
       "      <td>1</td>\n",
       "      <td>0</td>\n",
       "      <td>1</td>\n",
       "      <td>0</td>\n",
       "      <td>0.000</td>\n",
       "      <td>1.000</td>\n",
       "      <td>0.000</td>\n",
       "      <td>0.0000</td>\n",
       "      <td>#SIGUEMEYTESIGO Presidencia de Trump inquieta ...</td>\n",
       "    </tr>\n",
       "    <tr>\n",
       "      <th>2666819</th>\n",
       "      <td>2016-11-09 01:46:31</td>\n",
       "      <td>537.0</td>\n",
       "      <td>5730.0</td>\n",
       "      <td>752.0</td>\n",
       "      <td>0</td>\n",
       "      <td>1</td>\n",
       "      <td>0</td>\n",
       "      <td>1</td>\n",
       "      <td>0.256</td>\n",
       "      <td>0.744</td>\n",
       "      <td>0.000</td>\n",
       "      <td>-0.7318</td>\n",
       "      <td>RT @starboysivan: I CANT BELIEVE FLORIDA OU5 O...</td>\n",
       "    </tr>\n",
       "  </tbody>\n",
       "</table>\n",
       "</div>"
      ],
      "text/plain": [
       "                       time  usr_fol  usr_n_stat  usr_fri  n_weblinks  \\\n",
       "2666815 2016-11-09 01:46:30    450.0     34016.0    375.0           1   \n",
       "2666816 2016-11-09 01:46:30   3707.0      1030.0    265.0           0   \n",
       "2666817 2016-11-09 01:46:30    187.0      3072.0    328.0           0   \n",
       "2666818 2016-11-09 01:46:30     71.0      7743.0      6.0           1   \n",
       "2666819 2016-11-09 01:46:31    537.0      5730.0    752.0           0   \n",
       "\n",
       "         n_mentions  n_hashtags  RT    neg    neu    pos    comp  \\\n",
       "2666815           1           0   1  0.000  1.000  0.000  0.0000   \n",
       "2666816           1           0   1  0.000  0.786  0.214  0.5994   \n",
       "2666817           1           1   1  0.651  0.247  0.102 -0.9499   \n",
       "2666818           0           1   0  0.000  1.000  0.000  0.0000   \n",
       "2666819           1           0   1  0.256  0.744  0.000 -0.7318   \n",
       "\n",
       "                                                      text  \n",
       "2666815  RT @dave_izeidi: Mdr qui ne tente rien n'a rie...  \n",
       "2666816  RT @SJTEMI: Yoooo. Well if Donald Trump can be...  \n",
       "2666817  RT @OTRADaily: Trump didn't win. Racism won. S...  \n",
       "2666818  #SIGUEMEYTESIGO Presidencia de Trump inquieta ...  \n",
       "2666819  RT @starboysivan: I CANT BELIEVE FLORIDA OU5 O...  "
      ]
     },
     "execution_count": 14,
     "metadata": {},
     "output_type": "execute_result"
    }
   ],
   "source": [
    "df.tail()"
   ]
  },
  {
   "cell_type": "code",
   "execution_count": 15,
   "metadata": {
    "collapsed": false
   },
   "outputs": [
    {
     "data": {
      "text/html": [
       "<div>\n",
       "<table border=\"1\" class=\"dataframe\">\n",
       "  <thead>\n",
       "    <tr style=\"text-align: right;\">\n",
       "      <th></th>\n",
       "      <th>time</th>\n",
       "      <th>usr_fol</th>\n",
       "      <th>usr_n_stat</th>\n",
       "      <th>usr_fri</th>\n",
       "      <th>n_weblinks</th>\n",
       "      <th>n_mentions</th>\n",
       "      <th>n_hashtags</th>\n",
       "      <th>RT</th>\n",
       "      <th>neg</th>\n",
       "      <th>neu</th>\n",
       "      <th>pos</th>\n",
       "      <th>comp</th>\n",
       "      <th>text</th>\n",
       "    </tr>\n",
       "  </thead>\n",
       "  <tbody>\n",
       "    <tr>\n",
       "      <th>2666799</th>\n",
       "      <td>2016-11-09 01:46:30</td>\n",
       "      <td>106.0</td>\n",
       "      <td>3257.0</td>\n",
       "      <td>89.0</td>\n",
       "      <td>0</td>\n",
       "      <td>0</td>\n",
       "      <td>0</td>\n",
       "      <td>0</td>\n",
       "      <td>0.179</td>\n",
       "      <td>0.695</td>\n",
       "      <td>0.127</td>\n",
       "      <td>-0.2607</td>\n",
       "      <td>trump voters, y'all asks for this. if y'all ar...</td>\n",
       "    </tr>\n",
       "    <tr>\n",
       "      <th>2666801</th>\n",
       "      <td>2016-11-09 01:46:30</td>\n",
       "      <td>1520.0</td>\n",
       "      <td>56622.0</td>\n",
       "      <td>2047.0</td>\n",
       "      <td>0</td>\n",
       "      <td>1</td>\n",
       "      <td>0</td>\n",
       "      <td>0</td>\n",
       "      <td>0.307</td>\n",
       "      <td>0.394</td>\n",
       "      <td>0.299</td>\n",
       "      <td>-0.0258</td>\n",
       "      <td>@M1Jarvis trump win. The world gonna die\\n</td>\n",
       "    </tr>\n",
       "    <tr>\n",
       "      <th>2666806</th>\n",
       "      <td>2016-11-09 01:46:30</td>\n",
       "      <td>323.0</td>\n",
       "      <td>1646.0</td>\n",
       "      <td>510.0</td>\n",
       "      <td>1</td>\n",
       "      <td>0</td>\n",
       "      <td>0</td>\n",
       "      <td>0</td>\n",
       "      <td>0.000</td>\n",
       "      <td>1.000</td>\n",
       "      <td>0.000</td>\n",
       "      <td>0.0000</td>\n",
       "      <td>Found the silver lining https://t.co/XW0WRhjlyI\\n</td>\n",
       "    </tr>\n",
       "    <tr>\n",
       "      <th>2666809</th>\n",
       "      <td>2016-11-09 01:46:30</td>\n",
       "      <td>5139.0</td>\n",
       "      <td>18214.0</td>\n",
       "      <td>479.0</td>\n",
       "      <td>1</td>\n",
       "      <td>0</td>\n",
       "      <td>0</td>\n",
       "      <td>0</td>\n",
       "      <td>0.000</td>\n",
       "      <td>1.000</td>\n",
       "      <td>0.000</td>\n",
       "      <td>0.0000</td>\n",
       "      <td>If we look at all the blue. Hilary has 21% of ...</td>\n",
       "    </tr>\n",
       "    <tr>\n",
       "      <th>2666818</th>\n",
       "      <td>2016-11-09 01:46:30</td>\n",
       "      <td>71.0</td>\n",
       "      <td>7743.0</td>\n",
       "      <td>6.0</td>\n",
       "      <td>1</td>\n",
       "      <td>0</td>\n",
       "      <td>1</td>\n",
       "      <td>0</td>\n",
       "      <td>0.000</td>\n",
       "      <td>1.000</td>\n",
       "      <td>0.000</td>\n",
       "      <td>0.0000</td>\n",
       "      <td>#SIGUEMEYTESIGO Presidencia de Trump inquieta ...</td>\n",
       "    </tr>\n",
       "  </tbody>\n",
       "</table>\n",
       "</div>"
      ],
      "text/plain": [
       "                       time  usr_fol  usr_n_stat  usr_fri  n_weblinks  \\\n",
       "2666799 2016-11-09 01:46:30    106.0      3257.0     89.0           0   \n",
       "2666801 2016-11-09 01:46:30   1520.0     56622.0   2047.0           0   \n",
       "2666806 2016-11-09 01:46:30    323.0      1646.0    510.0           1   \n",
       "2666809 2016-11-09 01:46:30   5139.0     18214.0    479.0           1   \n",
       "2666818 2016-11-09 01:46:30     71.0      7743.0      6.0           1   \n",
       "\n",
       "         n_mentions  n_hashtags  RT    neg    neu    pos    comp  \\\n",
       "2666799           0           0   0  0.179  0.695  0.127 -0.2607   \n",
       "2666801           1           0   0  0.307  0.394  0.299 -0.0258   \n",
       "2666806           0           0   0  0.000  1.000  0.000  0.0000   \n",
       "2666809           0           0   0  0.000  1.000  0.000  0.0000   \n",
       "2666818           0           1   0  0.000  1.000  0.000  0.0000   \n",
       "\n",
       "                                                      text  \n",
       "2666799  trump voters, y'all asks for this. if y'all ar...  \n",
       "2666801         @M1Jarvis trump win. The world gonna die\\n  \n",
       "2666806  Found the silver lining https://t.co/XW0WRhjlyI\\n  \n",
       "2666809  If we look at all the blue. Hilary has 21% of ...  \n",
       "2666818  #SIGUEMEYTESIGO Presidencia de Trump inquieta ...  "
      ]
     },
     "execution_count": 15,
     "metadata": {},
     "output_type": "execute_result"
    }
   ],
   "source": [
    "df = df[df['RT'] == 0]\n",
    "df.tail()"
   ]
  },
  {
   "cell_type": "code",
   "execution_count": 16,
   "metadata": {
    "collapsed": false
   },
   "outputs": [
    {
     "data": {
      "text/plain": [
       "0.5919283489536344"
      ]
     },
     "execution_count": 16,
     "metadata": {},
     "output_type": "execute_result"
    }
   ],
   "source": [
    "N = len(df)\n",
    "df.n_weblinks.sum()/float(N)"
   ]
  },
  {
   "cell_type": "code",
   "execution_count": 17,
   "metadata": {
    "collapsed": false
   },
   "outputs": [
    {
     "data": {
      "text/plain": [
       "0.40259053593268146"
      ]
     },
     "execution_count": 17,
     "metadata": {},
     "output_type": "execute_result"
    }
   ],
   "source": [
    "df.n_mentions.sum()/float(N)"
   ]
  },
  {
   "cell_type": "code",
   "execution_count": 18,
   "metadata": {
    "collapsed": false
   },
   "outputs": [
    {
     "data": {
      "text/plain": [
       "0.39475707148549644"
      ]
     },
     "execution_count": 18,
     "metadata": {},
     "output_type": "execute_result"
    }
   ],
   "source": [
    "df.n_hashtags.sum()/float(N)"
   ]
  },
  {
   "cell_type": "code",
   "execution_count": 19,
   "metadata": {
    "collapsed": false
   },
   "outputs": [
    {
     "name": "stdout",
     "output_type": "stream",
     "text": [
      "779221\n"
     ]
    }
   ],
   "source": [
    "print N"
   ]
  },
  {
   "cell_type": "code",
   "execution_count": null,
   "metadata": {
    "collapsed": false
   },
   "outputs": [],
   "source": []
  },
  {
   "cell_type": "code",
   "execution_count": null,
   "metadata": {
    "collapsed": true
   },
   "outputs": [],
   "source": []
  }
 ],
 "metadata": {
  "anaconda-cloud": {},
  "kernelspec": {
   "display_name": "Python 2",
   "language": "python",
   "name": "python2"
  },
  "language_info": {
   "codemirror_mode": {
    "name": "ipython",
    "version": 2
   },
   "file_extension": ".py",
   "mimetype": "text/x-python",
   "name": "python",
   "nbconvert_exporter": "python",
   "pygments_lexer": "ipython2",
   "version": "2.7.11"
  }
 },
 "nbformat": 4,
 "nbformat_minor": 0
}
