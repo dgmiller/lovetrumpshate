{
 "cells": [
  {
   "cell_type": "markdown",
   "metadata": {},
   "source": [
    "#Voter Turnout Prediction"
   ]
  },
  {
   "cell_type": "markdown",
   "metadata": {},
   "source": [
    "Objective: predict voter turnout for the 2014 general election\n",
    "\n",
    "Data: voterfile from Nevada with 50,000 observations\n",
    "\n",
    "Method: Naive Bayes"
   ]
  },
  {
   "cell_type": "code",
   "execution_count": 2,
   "metadata": {
    "collapsed": true
   },
   "outputs": [],
   "source": [
    "# import statements\n",
    "import numpy as np\n",
    "from scipy import linalg as la\n",
    "from sklearn.naive_bayes import MultinomialNB\n",
    "from sklearn.linear_model import LogisticRegression\n",
    "from sklearn.linear_model import LinearRegression\n",
    "from pandas.io.parsers import read_csv\n",
    "from matplotlib import pyplot as plt"
   ]
  },
  {
   "cell_type": "markdown",
   "metadata": {},
   "source": [
    "Justification of Variables Used\n",
    "\n",
    "I chose variables based on the presence of 3 criteria:\n",
    "i) voter history,\n",
    "ii) precinct turnout,\n",
    "iii) age.\n",
    "\n",
    "I excluded many of the 39 variables based on a lack of relevance, poor data quality, the possibility of causing linear dependence or some combination of the three. While the goal is predictive accuracy, I decided to favor a simple model to avoid overfitting the data. By comparing methods with simple analyses, we can choose a 'best' model and then refine it by adding more relevant data."
   ]
  },
  {
   "cell_type": "code",
   "execution_count": 3,
   "metadata": {
    "collapsed": false
   },
   "outputs": [],
   "source": [
    "# load the voter data into a numpy ndarray type for exploratory analysis\n",
    "voterdata = np.genfromtxt(\"voterfile.csv\", dtype=[('id','i8'),('age','f4'),('party','S25'),\n",
    "                                                   ('ethnicity','S25'),('income','S25'),('education','S30')],\n",
    "                          delimiter=',', usecols=(0,1,2,3,6,7), skip_header=True)\n"
   ]
  },
  {
   "cell_type": "code",
   "execution_count": 4,
   "metadata": {
    "collapsed": false
   },
   "outputs": [
    {
     "data": {
      "image/png": "[encoded data removed]",
      "text/plain": [
       "<matplotlib.figure.Figure at 0x7fe4f8479090>"
      ]
     },
     "metadata": {},
     "output_type": "display_data"
    },
    {
     "name": "stdout",
     "output_type": "stream",
     "text": [
      "\n",
      "ETHNICITIES: \n",
      "['European', 'nan', 'African-American', 'Asian', 'Hispanic', 'Other', '0.0']\n",
      "\n",
      "INCOME: \n",
      "['75k-125k', 'Unknown', '35k-75k', '200k+', '0-35k', '125k-200k', '0.0']\n",
      "\n",
      "EDUCATION: \n",
      "['Bach Degree - Extremely Likely', 'nan', 'HS Diploma - Likely', 'HS Diploma - Extremely Likely', 'Some College - Likely', 'Bach Degree - Likely', 'Grad Degree - Extremely Likely', 'Some College -Extremely Likely', 'Less than HS Diploma - Likely', 'Grad Degree - Likely', 'Vocational Technical Degree - ', 'Less than HS Diploma - Ex Like', '0.0']\n"
     ]
    }
   ],
   "source": [
    "# visualize and explore some of the data\n",
    "%matplotlib inline\n",
    "plt.xlabel('individual')\n",
    "plt.ylabel('age')\n",
    "plt.plot(voterdata['age'][:100],'ro')\n",
    "plt.show()\n",
    "\n",
    "ethnic = []\n",
    "for x in voterdata['ethnicity']:\n",
    "    if ethnic.count(x) == 0:\n",
    "        ethnic.append(x)\n",
    "        \n",
    "inc = []\n",
    "for y in voterdata['income']:\n",
    "    if inc.count(y) == 0:\n",
    "        inc.append(y)\n",
    "        \n",
    "edu = []\n",
    "for z in voterdata['education']:\n",
    "    if edu.count(z) == 0:\n",
    "        edu.append(z)\n",
    "\n",
    "print \"\\nETHNICITIES: \\n\", ethnic\n",
    "print \"\\nINCOME: \\n\", inc\n",
    "print \"\\nEDUCATION: \\n\", edu"
   ]
  },
  {
   "cell_type": "code",
   "execution_count": 5,
   "metadata": {
    "collapsed": false
   },
   "outputs": [
    {
     "name": "stdout",
     "output_type": "stream",
     "text": [
      "young: 7589 | middle: 24480 | old: 17915\n"
     ]
    }
   ],
   "source": [
    "# divide up age into 3 arbitrary categories for visualization\n",
    "young = np.array([x for x in voterdata['age'] if x < 30.0])\n",
    "middle = np.array([x for x in voterdata['age'] if x < 60.0 and x >= 30.0])\n",
    "old = np.array([x for x in voterdata['age'] if x >= 60.0])\n",
    "print('young: %s | middle: %s | old: %s') % (len(young),len(middle),len(old))"
   ]
  },
  {
   "cell_type": "code",
   "execution_count": 6,
   "metadata": {
    "collapsed": false
   },
   "outputs": [
    {
     "data": {
      "image/png": "[encoded data removed]",
      "text/plain": [
       "<matplotlib.figure.Figure at 0x7fe51e7d4910>"
      ]
     },
     "metadata": {},
     "output_type": "display_data"
    }
   ],
   "source": [
    "# young bloods\n",
    "n, bins, patches = plt.hist(young,50,normed=0,facecolor='green',alpha=.75)\n",
    "plt.show()"
   ]
  },
  {
   "cell_type": "code",
   "execution_count": 7,
   "metadata": {
    "collapsed": false
   },
   "outputs": [
    {
     "data": {
      "image/png": "[encoded data removed]",
      "text/plain": [
       "<matplotlib.figure.Figure at 0x7fe51e7d4c50>"
      ]
     },
     "metadata": {},
     "output_type": "display_data"
    }
   ],
   "source": [
    "# middle-age folk\n",
    "n, bins, patches = plt.hist(middle, 50, normed=0, facecolor='blue', alpha=.75)\n",
    "plt.show()"
   ]
  },
  {
   "cell_type": "code",
   "execution_count": 8,
   "metadata": {
    "collapsed": false
   },
   "outputs": [
    {
     "data": {
      "image/png": "[encoded data removed]",
      "text/plain": [
       "<matplotlib.figure.Figure at 0x7fe4f3adb750>"
      ]
     },
     "metadata": {},
     "output_type": "display_data"
    }
   ],
   "source": [
    "# old timers\n",
    "n, bins, patches = plt.hist(old, 50, normed=0, facecolor='red', alpha=.75)\n",
    "plt.show()"
   ]
  },
  {
   "cell_type": "code",
   "execution_count": 9,
   "metadata": {
    "collapsed": false
   },
   "outputs": [
    {
     "data": {
      "image/png": "[encoded data removed]",
      "text/plain": [
       "<matplotlib.figure.Figure at 0x7fe4f393a7d0>"
      ]
     },
     "metadata": {},
     "output_type": "display_data"
    },
    {
     "name": "stdout",
     "output_type": "stream",
     "text": [
      "Republican: 17299 | Democrat: 19900 | Other: 12802\n"
     ]
    }
   ],
   "source": [
    "# visualize 'party'\n",
    "republicans = [x for x in voterdata['party'][:] if x == \"Republican\"]\n",
    "democrats = [x for x in voterdata['party'][:] if x == \"Democratic\"]\n",
    "other = [x for x in voterdata['party'][:] if x != \"Republican\" and x != \"Democratic\"]\n",
    "\n",
    "plt.bar(1, len(republicans), color='red')\n",
    "plt.bar(2, len(democrats), color='blue')\n",
    "plt.bar(3, len(other), color='yellow')\n",
    "plt.show()\n",
    "print(\"Republican: %s | Democrat: %s | Other: %s\") % (len(republicans),len(democrats),len(other))"
   ]
  },
  {
   "cell_type": "code",
   "execution_count": 10,
   "metadata": {
    "collapsed": false
   },
   "outputs": [],
   "source": [
    "# training data from 'voterfile.csv'\n",
    "train_data = np.loadtxt('voterfile.csv', delimiter=',',\n",
    "                      usecols=(12,13,14,15,16,17,18,19,20,21,22,23,24,25), # 11 is 2014\n",
    "                     skiprows=1)\n",
    "y = np.loadtxt('voterfile.csv', delimiter=',', usecols=(0,11), skiprows=1)"
   ]
  },
  {
   "cell_type": "code",
   "execution_count": 11,
   "metadata": {
    "collapsed": false
   },
   "outputs": [
    {
     "data": {
      "text/plain": [
       "MultinomialNB(alpha=1.0, class_prior=None, fit_prior=True)"
      ]
     },
     "execution_count": 11,
     "metadata": {},
     "output_type": "execute_result"
    }
   ],
   "source": [
    "# Multinomial Naive Bayes implementation\n",
    "vote = MultinomialNB()\n",
    "vote.fit(train_data,y[:,1])"
   ]
  },
  {
   "cell_type": "code",
   "execution_count": 12,
   "metadata": {
    "collapsed": false
   },
   "outputs": [],
   "source": [
    "turnout = vote.predict(train_data)\n",
    "probabilities = vote.predict_proba(train_data)[:,0]\n",
    "# writing the predictions to a new file\n",
    "outfile = open('predictions.csv','w')\n",
    "for x in turnout:\n",
    "    outfile.write(str(x) + ',')\n",
    "for y in probabilities:\n",
    "    outfile.write(str(y))\n",
    "\n",
    "outfile.close()\n"
   ]
  },
  {
   "cell_type": "markdown",
   "metadata": {},
   "source": [
    "Final Thoughts:\n",
    "\n",
    "I started the project by exploring the data. I visualized most of the variables and computed some key statistics. After I got a feel for the data and its character, I began to document some of the more interesting trends that I saw. I began developing several different models and looking into the relative advantages of each model. The algorithms I intended to implement and compare were the Multinomial Naive Bayes, Support Vector Machines (SVM), Gradient Boosted Regression Trees (GBRT), and standard Logistic Regression. To test the predictive power of each variable, I intended to use Ordinary Least Squares and compare that with a Singular Value Decomposition. I am confident that this would have produced strong results.\n",
    "\n",
    "I learned from this project that more time should be allocated to checking and cleaning the data before models are built. I developed some interesting models but in the end, I was unable to work with the data enough to produce the results I wanted. My final predictions are written to a file called \"predictions.csv\" which will be created when the program is run. The first column contains the prediction for voter turnout on the interval [0,1]. The second column is the probability of that outcome.\n",
    "\n",
    "Thank you again for this opportunity to dabble a little in some real data.\n",
    "\n",
    "--Derek Miller"
   ]
  },
  {
   "cell_type": "code",
   "execution_count": null,
   "metadata": {
    "collapsed": true
   },
   "outputs": [],
   "source": []
  }
 ],
 "metadata": {
  "kernelspec": {
   "display_name": "Python 2",
   "language": "python",
   "name": "python2"
  },
  "language_info": {
   "codemirror_mode": {
    "name": "ipython",
    "version": 2
   },
   "file_extension": ".py",
   "mimetype": "text/x-python",
   "name": "python",
   "nbconvert_exporter": "python",
   "pygments_lexer": "ipython2",
   "version": "2.7.10"
  }
 },
 "nbformat": 4,
 "nbformat_minor": 0
}
